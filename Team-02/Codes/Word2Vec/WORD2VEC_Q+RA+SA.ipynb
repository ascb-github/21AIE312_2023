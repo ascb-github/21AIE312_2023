{
  "cells": [
    {
      "cell_type": "code",
      "execution_count": 1,
      "metadata": {
        "colab": {
          "base_uri": "https://localhost:8080/"
        },
        "id": "bkImS8HorM72",
        "outputId": "bb6f8081-5ba3-4d5c-e9d1-8ccd82cccd34"
      },
      "outputs": [
        {
          "output_type": "stream",
          "name": "stdout",
          "text": [
            "Looking in indexes: https://pypi.org/simple, https://us-python.pkg.dev/colab-wheels/public/simple/\n",
            "Collecting catboost\n",
            "  Downloading catboost-1.2-cp310-cp310-manylinux2014_x86_64.whl (98.6 MB)\n",
            "\u001b[2K     \u001b[90m━━━━━━━━━━━━━━━━━━━━━━━━━━━━━━━━━━━━━━━━\u001b[0m \u001b[32m98.6/98.6 MB\u001b[0m \u001b[31m7.7 MB/s\u001b[0m eta \u001b[36m0:00:00\u001b[0m\n",
            "\u001b[?25hRequirement already satisfied: graphviz in /usr/local/lib/python3.10/dist-packages (from catboost) (0.20.1)\n",
            "Requirement already satisfied: matplotlib in /usr/local/lib/python3.10/dist-packages (from catboost) (3.7.1)\n",
            "Requirement already satisfied: numpy>=1.16.0 in /usr/local/lib/python3.10/dist-packages (from catboost) (1.22.4)\n",
            "Requirement already satisfied: pandas>=0.24 in /usr/local/lib/python3.10/dist-packages (from catboost) (1.5.3)\n",
            "Requirement already satisfied: scipy in /usr/local/lib/python3.10/dist-packages (from catboost) (1.10.1)\n",
            "Requirement already satisfied: plotly in /usr/local/lib/python3.10/dist-packages (from catboost) (5.13.1)\n",
            "Requirement already satisfied: six in /usr/local/lib/python3.10/dist-packages (from catboost) (1.16.0)\n",
            "Requirement already satisfied: python-dateutil>=2.8.1 in /usr/local/lib/python3.10/dist-packages (from pandas>=0.24->catboost) (2.8.2)\n",
            "Requirement already satisfied: pytz>=2020.1 in /usr/local/lib/python3.10/dist-packages (from pandas>=0.24->catboost) (2022.7.1)\n",
            "Requirement already satisfied: contourpy>=1.0.1 in /usr/local/lib/python3.10/dist-packages (from matplotlib->catboost) (1.0.7)\n",
            "Requirement already satisfied: cycler>=0.10 in /usr/local/lib/python3.10/dist-packages (from matplotlib->catboost) (0.11.0)\n",
            "Requirement already satisfied: fonttools>=4.22.0 in /usr/local/lib/python3.10/dist-packages (from matplotlib->catboost) (4.39.3)\n",
            "Requirement already satisfied: kiwisolver>=1.0.1 in /usr/local/lib/python3.10/dist-packages (from matplotlib->catboost) (1.4.4)\n",
            "Requirement already satisfied: packaging>=20.0 in /usr/local/lib/python3.10/dist-packages (from matplotlib->catboost) (23.1)\n",
            "Requirement already satisfied: pillow>=6.2.0 in /usr/local/lib/python3.10/dist-packages (from matplotlib->catboost) (8.4.0)\n",
            "Requirement already satisfied: pyparsing>=2.3.1 in /usr/local/lib/python3.10/dist-packages (from matplotlib->catboost) (3.0.9)\n",
            "Requirement already satisfied: tenacity>=6.2.0 in /usr/local/lib/python3.10/dist-packages (from plotly->catboost) (8.2.2)\n",
            "Installing collected packages: catboost\n",
            "Successfully installed catboost-1.2\n"
          ]
        }
      ],
      "source": [
        "!pip install catboost"
      ]
    },
    {
      "cell_type": "code",
      "execution_count": 2,
      "metadata": {
        "id": "14MXCT5NqpRl"
      },
      "outputs": [],
      "source": [
        "import pandas as pd\n",
        "import matplotlib.pyplot as plt\n",
        "from sklearn.decomposition import PCA\n",
        "import tensorflow_hub as hub\n",
        "from sklearn.model_selection import train_test_split, GridSearchCV, KFold\n",
        "\n",
        "from sklearn.ensemble import RandomForestRegressor, GradientBoostingRegressor, AdaBoostRegressor\n",
        "from sklearn.linear_model import LinearRegression\n",
        "from sklearn.neighbors import KNeighborsRegressor\n",
        "from sklearn.neural_network import MLPRegressor\n",
        "from sklearn.svm import SVR\n",
        "from sklearn.pipeline import make_pipeline\n",
        "from sklearn.preprocessing import StandardScaler\n",
        "from sklearn.ensemble import StackingRegressor\n",
        "from catboost import CatBoostRegressor\n",
        "import xgboost as xgb\n",
        "\n",
        "from sklearn.metrics import mean_absolute_error, mean_squared_error, r2_score, mean_absolute_percentage_error\n",
        "\n",
        "from scipy.stats import norm\n",
        "import numpy as np\n",
        "import tensorflow as tf"
      ]
    },
    {
      "cell_type": "code",
      "execution_count": 3,
      "metadata": {
        "id": "f9792bef"
      },
      "outputs": [],
      "source": [
        "url = \"https://raw.githubusercontent.com/Tejanikhil/Shared-ASAG/main\"\n",
        "df = pd.read_csv(url + \"/SemEvalData.csv\")"
      ]
    },
    {
      "cell_type": "code",
      "execution_count": 4,
      "metadata": {
        "colab": {
          "base_uri": "https://localhost:8080/"
        },
        "id": "f5cjS38-rXRi",
        "outputId": "2cef8099-b30c-4d7f-a03a-65e9bbe3cde9"
      },
      "outputs": [
        {
          "output_type": "stream",
          "name": "stderr",
          "text": [
            "[nltk_data] Downloading package stopwords to /root/nltk_data...\n",
            "[nltk_data]   Unzipping corpora/stopwords.zip.\n",
            "[nltk_data] Downloading package averaged_perceptron_tagger to\n",
            "[nltk_data]     /root/nltk_data...\n",
            "[nltk_data]   Unzipping taggers/averaged_perceptron_tagger.zip.\n",
            "[nltk_data] Downloading package punkt to /root/nltk_data...\n",
            "[nltk_data]   Unzipping tokenizers/punkt.zip.\n"
          ]
        }
      ],
      "source": [
        "import pandas as pd\n",
        "import nltk\n",
        "import numpy as np\n",
        "from nltk.tokenize import word_tokenize, sent_tokenize\n",
        "from sklearn.metrics.pairwise import cosine_similarity\n",
        "import nltk\n",
        "from nltk.corpus import stopwords\n",
        "\n",
        "# Download the stopwords corpus if not already downloaded\n",
        "nltk.download('stopwords')\n",
        "nltk.download('averaged_perceptron_tagger')\n",
        "nltk.download('punkt')\n",
        "stop_words = set(stopwords.words('english'))"
      ]
    },
    {
      "cell_type": "code",
      "execution_count": 5,
      "metadata": {
        "id": "EkUiTEeKtwEv"
      },
      "outputs": [],
      "source": [
        "def extract_pos(text):\n",
        "    tokens = word_tokenize(text)\n",
        "    pos_tags = nltk.pos_tag(tokens)\n",
        "    pos_words = [word for word, pos in pos_tags if pos.startswith('VB') or pos.startswith('JJ') or pos.startswith('NN')]\n",
        "    return ' '.join(pos_words)\n",
        "\n",
        "def process_dataset(text):\n",
        "    lower_cased = text.lower()\n",
        "    tokens = nltk.word_tokenize(lower_cased)\n",
        "    filtered_tokens = [token for token in tokens if token not in stop_words]\n",
        "    preprocessed = ' '.join(filtered_tokens)\n",
        "    return preprocessed"
      ]
    },
    {
      "cell_type": "code",
      "execution_count": 6,
      "metadata": {
        "id": "3B3Z2aN9tx40"
      },
      "outputs": [],
      "source": [
        "from sklearn.model_selection import train_test_split\n",
        "train_X, test_X, train_y, test_y = train_test_split(df.loc[:,[\"Actual Answer\",\"Student Answer\"]], df[\"Grade\"], test_size=0.1, random_state=42)"
      ]
    },
    {
      "cell_type": "code",
      "source": [
        "TRAIN = train_X\n",
        "TRAIN[\"LABELS\"] = train_y\n",
        "TEST = test_X\n",
        "TEST[\"LABELS\"] = test_y"
      ],
      "metadata": {
        "id": "yGy40WjePejn"
      },
      "execution_count": 8,
      "outputs": []
    },
    {
      "cell_type": "code",
      "execution_count": 9,
      "metadata": {
        "id": "vfwWEnJ3tzIL"
      },
      "outputs": [],
      "source": [
        "train_X[\"Actual Answer\"] = train_X[\"Actual Answer\"].apply(extract_pos).apply(process_dataset)\n",
        "train_X[\"Student Answer\"] = train_X[\"Student Answer\"].apply(extract_pos).apply(process_dataset)\n",
        "\n",
        "test_X[\"Actual Answer\"] = test_X[\"Actual Answer\"].apply(extract_pos).apply(process_dataset)\n",
        "test_X[\"Student Answer\"] = test_X[\"Student Answer\"].apply(extract_pos).apply(process_dataset)"
      ]
    },
    {
      "cell_type": "code",
      "source": [
        "print(TRAIN.shape)\n",
        "TRAIN = TRAIN.replace(\"\", pd.NA).dropna()\n",
        "print(TRAIN.shape)\n",
        "TEST = TEST.replace(\"\", pd.NA).dropna()"
      ],
      "metadata": {
        "colab": {
          "base_uri": "https://localhost:8080/"
        },
        "id": "Wnxt8yYqPgvR",
        "outputId": "df1a0c0f-ea69-4c5c-a5d0-fddcec01816e"
      },
      "execution_count": 10,
      "outputs": [
        {
          "output_type": "stream",
          "name": "stdout",
          "text": [
            "(2197, 3)\n",
            "(2184, 3)\n"
          ]
        }
      ]
    },
    {
      "cell_type": "code",
      "source": [
        "train_X = TRAIN.drop(\"LABELS\", axis = 1)\n",
        "train_y = TRAIN.iloc[:,-1]\n",
        "test_X = TEST.drop(\"LABELS\", axis = 1)\n",
        "test_y = TEST.iloc[:,-1]"
      ],
      "metadata": {
        "id": "CR2ErzpbPiwW"
      },
      "execution_count": 11,
      "outputs": []
    },
    {
      "cell_type": "code",
      "execution_count": 12,
      "metadata": {
        "id": "X3Fk-CaUt0Ba"
      },
      "outputs": [],
      "source": [
        "sentences = list(train_X[\"Actual Answer\"]) + list(train_X[\"Student Answer\"])\n",
        "sentences = [i.split() for i in sentences]"
      ]
    },
    {
      "cell_type": "code",
      "execution_count": 13,
      "metadata": {
        "id": "bB_tDKjpuAzu"
      },
      "outputs": [],
      "source": [
        "from gensim.models import Word2Vec\n",
        "from gensim.utils import simple_preprocess"
      ]
    },
    {
      "cell_type": "code",
      "execution_count": 14,
      "metadata": {
        "id": "NPht_JBiuB6D"
      },
      "outputs": [],
      "source": [
        "train_Embeddings_df = pd.DataFrame({\"Student_Answer_Embeddings\":train_X[\"Student Answer\"], \"Reference_Answer_Embeddings\":train_X[\"Actual Answer\"]})\n",
        "test_Embeddings_df = pd.DataFrame({\"Student_Answer_Embeddings\":test_X[\"Student Answer\"], \"Reference_Answer_Embeddings\":test_X[\"Actual Answer\"]})"
      ]
    },
    {
      "cell_type": "code",
      "execution_count": 15,
      "metadata": {
        "id": "njcbmbcAuCzk"
      },
      "outputs": [],
      "source": [
        "model = Word2Vec(sentences, min_count=1)"
      ]
    },
    {
      "cell_type": "code",
      "execution_count": 16,
      "metadata": {
        "id": "A98hQLaluDvA"
      },
      "outputs": [],
      "source": [
        "def get_wordvec_embeddings(text):\n",
        "    try:\n",
        "        embeds = [model.wv[i] for i in text.split()]\n",
        "    except:\n",
        "        embeds = np.zeros(100)\n",
        "        \n",
        "    return np.mean(np.array(embeds),axis = 0)"
      ]
    },
    {
      "cell_type": "code",
      "execution_count": 17,
      "metadata": {
        "id": "fkiR8qiiuE32"
      },
      "outputs": [],
      "source": [
        "train_Embeddings_df[\"Student_Answer_Embeddings\"] = train_Embeddings_df[\"Student_Answer_Embeddings\"].apply(get_wordvec_embeddings)\n",
        "train_Embeddings_df[\"Reference_Answer_Embeddings\"] = train_Embeddings_df[\"Reference_Answer_Embeddings\"].apply(get_wordvec_embeddings)\n",
        "\n",
        "test_Embeddings_df[\"Student_Answer_Embeddings\"] = test_Embeddings_df[\"Student_Answer_Embeddings\"].apply(get_wordvec_embeddings)\n",
        "test_Embeddings_df[\"Reference_Answer_Embeddings\"] = test_Embeddings_df[\"Reference_Answer_Embeddings\"].apply(get_wordvec_embeddings)"
      ]
    },
    {
      "cell_type": "code",
      "execution_count": 18,
      "metadata": {
        "colab": {
          "base_uri": "https://localhost:8080/",
          "height": 423
        },
        "id": "87fTS-P1fFff",
        "outputId": "27aeeddb-72e8-4a7a-9093-24e7baa4d462"
      },
      "outputs": [
        {
          "output_type": "execute_result",
          "data": {
            "text/plain": [
              "                              Student_Answer_Embeddings  \\\n",
              "199   [-0.013231093, 0.01926258, -0.03497585, 0.0240...   \n",
              "229   [-0.0351708, 0.2985341, -0.64064443, 0.3386988...   \n",
              "521   [-0.053558454, 0.08091264, -0.22860163, 0.1696...   \n",
              "651   [-0.06562183, 0.22335838, -0.20084943, 0.12248...   \n",
              "450   [-0.058086336, 0.049783032, -0.23313145, 0.169...   \n",
              "...                                                 ...   \n",
              "1638  [-0.09139938, 0.09371384, -0.057737358, 0.0883...   \n",
              "1095  [0.014017844, 0.768235, -0.6110421, 0.22033174...   \n",
              "1130  [-0.010181204, 0.26435462, -0.42537203, 0.3596...   \n",
              "1294  [-0.06864554, 0.10291038, -0.1652634, 0.173739...   \n",
              "860   [-0.09552104, 0.1572051, -0.088312775, 0.07000...   \n",
              "\n",
              "                            Reference_Answer_Embeddings  \n",
              "199   [-0.11933394, 0.07470847, -0.18360311, 0.14704...  \n",
              "229   [-0.031117108, 0.09332319, -0.5197473, 0.32609...  \n",
              "521   [-0.19110733, 0.062203974, -0.24957447, 0.2336...  \n",
              "651   [-0.056014687, 0.12857561, -0.16960359, 0.1367...  \n",
              "450   [-0.0353079, 0.07401244, -0.33640778, 0.262426...  \n",
              "...                                                 ...  \n",
              "1638  [-0.1676393, 0.2461407, 0.31873792, -0.0960089...  \n",
              "1095  [-0.014550311, 0.11825945, -0.36267385, 0.3493...  \n",
              "1130  [-0.0894115, 0.034320932, -0.02979892, 0.04476...  \n",
              "1294  [-0.07753556, 0.09434413, -0.12873547, 0.11807...  \n",
              "860   [-0.20771624, 0.038604524, -0.16116272, 0.0604...  \n",
              "\n",
              "[2184 rows x 2 columns]"
            ],
            "text/html": [
              "\n",
              "  <div id=\"df-7ceebef1-862b-49b5-9592-4f54e17b8746\">\n",
              "    <div class=\"colab-df-container\">\n",
              "      <div>\n",
              "<style scoped>\n",
              "    .dataframe tbody tr th:only-of-type {\n",
              "        vertical-align: middle;\n",
              "    }\n",
              "\n",
              "    .dataframe tbody tr th {\n",
              "        vertical-align: top;\n",
              "    }\n",
              "\n",
              "    .dataframe thead th {\n",
              "        text-align: right;\n",
              "    }\n",
              "</style>\n",
              "<table border=\"1\" class=\"dataframe\">\n",
              "  <thead>\n",
              "    <tr style=\"text-align: right;\">\n",
              "      <th></th>\n",
              "      <th>Student_Answer_Embeddings</th>\n",
              "      <th>Reference_Answer_Embeddings</th>\n",
              "    </tr>\n",
              "  </thead>\n",
              "  <tbody>\n",
              "    <tr>\n",
              "      <th>199</th>\n",
              "      <td>[-0.013231093, 0.01926258, -0.03497585, 0.0240...</td>\n",
              "      <td>[-0.11933394, 0.07470847, -0.18360311, 0.14704...</td>\n",
              "    </tr>\n",
              "    <tr>\n",
              "      <th>229</th>\n",
              "      <td>[-0.0351708, 0.2985341, -0.64064443, 0.3386988...</td>\n",
              "      <td>[-0.031117108, 0.09332319, -0.5197473, 0.32609...</td>\n",
              "    </tr>\n",
              "    <tr>\n",
              "      <th>521</th>\n",
              "      <td>[-0.053558454, 0.08091264, -0.22860163, 0.1696...</td>\n",
              "      <td>[-0.19110733, 0.062203974, -0.24957447, 0.2336...</td>\n",
              "    </tr>\n",
              "    <tr>\n",
              "      <th>651</th>\n",
              "      <td>[-0.06562183, 0.22335838, -0.20084943, 0.12248...</td>\n",
              "      <td>[-0.056014687, 0.12857561, -0.16960359, 0.1367...</td>\n",
              "    </tr>\n",
              "    <tr>\n",
              "      <th>450</th>\n",
              "      <td>[-0.058086336, 0.049783032, -0.23313145, 0.169...</td>\n",
              "      <td>[-0.0353079, 0.07401244, -0.33640778, 0.262426...</td>\n",
              "    </tr>\n",
              "    <tr>\n",
              "      <th>...</th>\n",
              "      <td>...</td>\n",
              "      <td>...</td>\n",
              "    </tr>\n",
              "    <tr>\n",
              "      <th>1638</th>\n",
              "      <td>[-0.09139938, 0.09371384, -0.057737358, 0.0883...</td>\n",
              "      <td>[-0.1676393, 0.2461407, 0.31873792, -0.0960089...</td>\n",
              "    </tr>\n",
              "    <tr>\n",
              "      <th>1095</th>\n",
              "      <td>[0.014017844, 0.768235, -0.6110421, 0.22033174...</td>\n",
              "      <td>[-0.014550311, 0.11825945, -0.36267385, 0.3493...</td>\n",
              "    </tr>\n",
              "    <tr>\n",
              "      <th>1130</th>\n",
              "      <td>[-0.010181204, 0.26435462, -0.42537203, 0.3596...</td>\n",
              "      <td>[-0.0894115, 0.034320932, -0.02979892, 0.04476...</td>\n",
              "    </tr>\n",
              "    <tr>\n",
              "      <th>1294</th>\n",
              "      <td>[-0.06864554, 0.10291038, -0.1652634, 0.173739...</td>\n",
              "      <td>[-0.07753556, 0.09434413, -0.12873547, 0.11807...</td>\n",
              "    </tr>\n",
              "    <tr>\n",
              "      <th>860</th>\n",
              "      <td>[-0.09552104, 0.1572051, -0.088312775, 0.07000...</td>\n",
              "      <td>[-0.20771624, 0.038604524, -0.16116272, 0.0604...</td>\n",
              "    </tr>\n",
              "  </tbody>\n",
              "</table>\n",
              "<p>2184 rows × 2 columns</p>\n",
              "</div>\n",
              "      <button class=\"colab-df-convert\" onclick=\"convertToInteractive('df-7ceebef1-862b-49b5-9592-4f54e17b8746')\"\n",
              "              title=\"Convert this dataframe to an interactive table.\"\n",
              "              style=\"display:none;\">\n",
              "        \n",
              "  <svg xmlns=\"http://www.w3.org/2000/svg\" height=\"24px\"viewBox=\"0 0 24 24\"\n",
              "       width=\"24px\">\n",
              "    <path d=\"M0 0h24v24H0V0z\" fill=\"none\"/>\n",
              "    <path d=\"M18.56 5.44l.94 2.06.94-2.06 2.06-.94-2.06-.94-.94-2.06-.94 2.06-2.06.94zm-11 1L8.5 8.5l.94-2.06 2.06-.94-2.06-.94L8.5 2.5l-.94 2.06-2.06.94zm10 10l.94 2.06.94-2.06 2.06-.94-2.06-.94-.94-2.06-.94 2.06-2.06.94z\"/><path d=\"M17.41 7.96l-1.37-1.37c-.4-.4-.92-.59-1.43-.59-.52 0-1.04.2-1.43.59L10.3 9.45l-7.72 7.72c-.78.78-.78 2.05 0 2.83L4 21.41c.39.39.9.59 1.41.59.51 0 1.02-.2 1.41-.59l7.78-7.78 2.81-2.81c.8-.78.8-2.07 0-2.86zM5.41 20L4 18.59l7.72-7.72 1.47 1.35L5.41 20z\"/>\n",
              "  </svg>\n",
              "      </button>\n",
              "      \n",
              "  <style>\n",
              "    .colab-df-container {\n",
              "      display:flex;\n",
              "      flex-wrap:wrap;\n",
              "      gap: 12px;\n",
              "    }\n",
              "\n",
              "    .colab-df-convert {\n",
              "      background-color: #E8F0FE;\n",
              "      border: none;\n",
              "      border-radius: 50%;\n",
              "      cursor: pointer;\n",
              "      display: none;\n",
              "      fill: #1967D2;\n",
              "      height: 32px;\n",
              "      padding: 0 0 0 0;\n",
              "      width: 32px;\n",
              "    }\n",
              "\n",
              "    .colab-df-convert:hover {\n",
              "      background-color: #E2EBFA;\n",
              "      box-shadow: 0px 1px 2px rgba(60, 64, 67, 0.3), 0px 1px 3px 1px rgba(60, 64, 67, 0.15);\n",
              "      fill: #174EA6;\n",
              "    }\n",
              "\n",
              "    [theme=dark] .colab-df-convert {\n",
              "      background-color: #3B4455;\n",
              "      fill: #D2E3FC;\n",
              "    }\n",
              "\n",
              "    [theme=dark] .colab-df-convert:hover {\n",
              "      background-color: #434B5C;\n",
              "      box-shadow: 0px 1px 3px 1px rgba(0, 0, 0, 0.15);\n",
              "      filter: drop-shadow(0px 1px 2px rgba(0, 0, 0, 0.3));\n",
              "      fill: #FFFFFF;\n",
              "    }\n",
              "  </style>\n",
              "\n",
              "      <script>\n",
              "        const buttonEl =\n",
              "          document.querySelector('#df-7ceebef1-862b-49b5-9592-4f54e17b8746 button.colab-df-convert');\n",
              "        buttonEl.style.display =\n",
              "          google.colab.kernel.accessAllowed ? 'block' : 'none';\n",
              "\n",
              "        async function convertToInteractive(key) {\n",
              "          const element = document.querySelector('#df-7ceebef1-862b-49b5-9592-4f54e17b8746');\n",
              "          const dataTable =\n",
              "            await google.colab.kernel.invokeFunction('convertToInteractive',\n",
              "                                                     [key], {});\n",
              "          if (!dataTable) return;\n",
              "\n",
              "          const docLinkHtml = 'Like what you see? Visit the ' +\n",
              "            '<a target=\"_blank\" href=https://colab.research.google.com/notebooks/data_table.ipynb>data table notebook</a>'\n",
              "            + ' to learn more about interactive tables.';\n",
              "          element.innerHTML = '';\n",
              "          dataTable['output_type'] = 'display_data';\n",
              "          await google.colab.output.renderOutput(dataTable, element);\n",
              "          const docLink = document.createElement('div');\n",
              "          docLink.innerHTML = docLinkHtml;\n",
              "          element.appendChild(docLink);\n",
              "        }\n",
              "      </script>\n",
              "    </div>\n",
              "  </div>\n",
              "  "
            ]
          },
          "metadata": {},
          "execution_count": 18
        }
      ],
      "source": [
        "train_Embeddings_df"
      ]
    },
    {
      "cell_type": "code",
      "execution_count": 19,
      "metadata": {
        "id": "rpfDjmoNuFxP"
      },
      "outputs": [],
      "source": [
        "train_X[\"Subtracted_Embeddings\"] = train_Embeddings_df.apply(lambda x:x[\"Student_Answer_Embeddings\"]-x[\"Reference_Answer_Embeddings\"], axis = 1)\n",
        "test_X[\"Subtracted_Embeddings\"] = test_Embeddings_df.apply(lambda x:x[\"Student_Answer_Embeddings\"]-x[\"Reference_Answer_Embeddings\"], axis = 1)"
      ]
    },
    {
      "cell_type": "code",
      "execution_count": 20,
      "metadata": {
        "id": "6u7EtaR6uJ55"
      },
      "outputs": [],
      "source": [
        "train_df = pd.DataFrame(list(train_X[\"Subtracted_Embeddings\"]))\n",
        "test_df = pd.DataFrame(list(test_X[\"Subtracted_Embeddings\"]))"
      ]
    },
    {
      "cell_type": "code",
      "execution_count": 21,
      "metadata": {
        "id": "1jNRioOzkhVN"
      },
      "outputs": [],
      "source": [
        "train_df.to_csv(\"Word2Vec_train_Embeddings.csv\")\n",
        "test_df.to_csv(\"Word2Vec_test_Embeddings.csv\")"
      ]
    },
    {
      "cell_type": "code",
      "execution_count": 22,
      "metadata": {
        "colab": {
          "base_uri": "https://localhost:8080/",
          "height": 74
        },
        "id": "Lz6WV3EFuK8L",
        "outputId": "705b3301-52ec-489b-fc0c-86881dbdb2dc"
      },
      "outputs": [
        {
          "output_type": "execute_result",
          "data": {
            "text/plain": [
              "LinearRegression()"
            ],
            "text/html": [
              "<style>#sk-container-id-1 {color: black;background-color: white;}#sk-container-id-1 pre{padding: 0;}#sk-container-id-1 div.sk-toggleable {background-color: white;}#sk-container-id-1 label.sk-toggleable__label {cursor: pointer;display: block;width: 100%;margin-bottom: 0;padding: 0.3em;box-sizing: border-box;text-align: center;}#sk-container-id-1 label.sk-toggleable__label-arrow:before {content: \"▸\";float: left;margin-right: 0.25em;color: #696969;}#sk-container-id-1 label.sk-toggleable__label-arrow:hover:before {color: black;}#sk-container-id-1 div.sk-estimator:hover label.sk-toggleable__label-arrow:before {color: black;}#sk-container-id-1 div.sk-toggleable__content {max-height: 0;max-width: 0;overflow: hidden;text-align: left;background-color: #f0f8ff;}#sk-container-id-1 div.sk-toggleable__content pre {margin: 0.2em;color: black;border-radius: 0.25em;background-color: #f0f8ff;}#sk-container-id-1 input.sk-toggleable__control:checked~div.sk-toggleable__content {max-height: 200px;max-width: 100%;overflow: auto;}#sk-container-id-1 input.sk-toggleable__control:checked~label.sk-toggleable__label-arrow:before {content: \"▾\";}#sk-container-id-1 div.sk-estimator input.sk-toggleable__control:checked~label.sk-toggleable__label {background-color: #d4ebff;}#sk-container-id-1 div.sk-label input.sk-toggleable__control:checked~label.sk-toggleable__label {background-color: #d4ebff;}#sk-container-id-1 input.sk-hidden--visually {border: 0;clip: rect(1px 1px 1px 1px);clip: rect(1px, 1px, 1px, 1px);height: 1px;margin: -1px;overflow: hidden;padding: 0;position: absolute;width: 1px;}#sk-container-id-1 div.sk-estimator {font-family: monospace;background-color: #f0f8ff;border: 1px dotted black;border-radius: 0.25em;box-sizing: border-box;margin-bottom: 0.5em;}#sk-container-id-1 div.sk-estimator:hover {background-color: #d4ebff;}#sk-container-id-1 div.sk-parallel-item::after {content: \"\";width: 100%;border-bottom: 1px solid gray;flex-grow: 1;}#sk-container-id-1 div.sk-label:hover label.sk-toggleable__label {background-color: #d4ebff;}#sk-container-id-1 div.sk-serial::before {content: \"\";position: absolute;border-left: 1px solid gray;box-sizing: border-box;top: 0;bottom: 0;left: 50%;z-index: 0;}#sk-container-id-1 div.sk-serial {display: flex;flex-direction: column;align-items: center;background-color: white;padding-right: 0.2em;padding-left: 0.2em;position: relative;}#sk-container-id-1 div.sk-item {position: relative;z-index: 1;}#sk-container-id-1 div.sk-parallel {display: flex;align-items: stretch;justify-content: center;background-color: white;position: relative;}#sk-container-id-1 div.sk-item::before, #sk-container-id-1 div.sk-parallel-item::before {content: \"\";position: absolute;border-left: 1px solid gray;box-sizing: border-box;top: 0;bottom: 0;left: 50%;z-index: -1;}#sk-container-id-1 div.sk-parallel-item {display: flex;flex-direction: column;z-index: 1;position: relative;background-color: white;}#sk-container-id-1 div.sk-parallel-item:first-child::after {align-self: flex-end;width: 50%;}#sk-container-id-1 div.sk-parallel-item:last-child::after {align-self: flex-start;width: 50%;}#sk-container-id-1 div.sk-parallel-item:only-child::after {width: 0;}#sk-container-id-1 div.sk-dashed-wrapped {border: 1px dashed gray;margin: 0 0.4em 0.5em 0.4em;box-sizing: border-box;padding-bottom: 0.4em;background-color: white;}#sk-container-id-1 div.sk-label label {font-family: monospace;font-weight: bold;display: inline-block;line-height: 1.2em;}#sk-container-id-1 div.sk-label-container {text-align: center;}#sk-container-id-1 div.sk-container {/* jupyter's `normalize.less` sets `[hidden] { display: none; }` but bootstrap.min.css set `[hidden] { display: none !important; }` so we also need the `!important` here to be able to override the default hidden behavior on the sphinx rendered scikit-learn.org. See: https://github.com/scikit-learn/scikit-learn/issues/21755 */display: inline-block !important;position: relative;}#sk-container-id-1 div.sk-text-repr-fallback {display: none;}</style><div id=\"sk-container-id-1\" class=\"sk-top-container\"><div class=\"sk-text-repr-fallback\"><pre>LinearRegression()</pre><b>In a Jupyter environment, please rerun this cell to show the HTML representation or trust the notebook. <br />On GitHub, the HTML representation is unable to render, please try loading this page with nbviewer.org.</b></div><div class=\"sk-container\" hidden><div class=\"sk-item\"><div class=\"sk-estimator sk-toggleable\"><input class=\"sk-toggleable__control sk-hidden--visually\" id=\"sk-estimator-id-1\" type=\"checkbox\" checked><label for=\"sk-estimator-id-1\" class=\"sk-toggleable__label sk-toggleable__label-arrow\">LinearRegression</label><div class=\"sk-toggleable__content\"><pre>LinearRegression()</pre></div></div></div></div></div>"
            ]
          },
          "metadata": {},
          "execution_count": 22
        }
      ],
      "source": [
        "from sklearn.linear_model import LinearRegression\n",
        "LR_model = LinearRegression()\n",
        "LR_model.fit(train_df, train_y)"
      ]
    },
    {
      "cell_type": "code",
      "execution_count": 23,
      "metadata": {
        "id": "ppPjVnhSuM1_"
      },
      "outputs": [],
      "source": [
        "preds = LR_model.predict(test_df)\n",
        "y_preds = [round(y_val, 1) for y_val in preds]\n",
        "actuals = test_y\n",
        "y_true = [round(y_val, 1) for y_val in actuals]"
      ]
    },
    {
      "cell_type": "code",
      "execution_count": 24,
      "metadata": {
        "id": "Dg0CWf4fuNuZ"
      },
      "outputs": [],
      "source": [
        "from sklearn.metrics import mean_absolute_error, mean_squared_error, r2_score, mean_absolute_percentage_error\n",
        "LR_mae = mean_absolute_error(y_true, np.round(y_preds, 1))\n",
        "LR_mse = mean_squared_error(y_true, np.round(y_preds, 1))\n",
        "LR_rmse = mean_squared_error(y_true, np.round(y_preds, 1), squared=False)\n",
        "LR_mape = mean_absolute_percentage_error(y_true, y_preds, multioutput = \"uniform_average\")\n",
        "LR_r2 = r2_score(y_true, y_preds)"
      ]
    },
    {
      "cell_type": "code",
      "execution_count": 25,
      "metadata": {
        "id": "eF0vR-1LuOkX",
        "colab": {
          "base_uri": "https://localhost:8080/"
        },
        "outputId": "360967b2-ad2b-4249-b7c9-9dbc6548e3db"
      },
      "outputs": [
        {
          "output_type": "stream",
          "name": "stdout",
          "text": [
            "Mean Absolute Error (MAE):  1.12\n",
            "Mean Squared Error (MSE):  1.85\n",
            "Root Mean Squared Error (RMSE):  1.36\n",
            "Mean Absolute Percentage Error (MAPE):  468742008606369.25\n",
            "R2 Score:  0.08\n"
          ]
        }
      ],
      "source": [
        "print(\"Mean Absolute Error (MAE): \", np.round(LR_mae, 2))\n",
        "print(\"Mean Squared Error (MSE): \", np.round(LR_mse, 2))\n",
        "print(\"Root Mean Squared Error (RMSE): \", np.round(LR_rmse, 2))\n",
        "print(\"Mean Absolute Percentage Error (MAPE): \", np.round(LR_mape, 2))\n",
        "print(\"R2 Score: \", np.round(LR_r2, 2))"
      ]
    },
    {
      "cell_type": "code",
      "execution_count": 26,
      "metadata": {
        "id": "GtSq26fWuPy7"
      },
      "outputs": [],
      "source": [
        "from sklearn import neighbors\n",
        "rmse_val = []\n",
        "mae_val = []\n",
        "mse_val = []\n",
        "r2_val = []\n",
        "for K in range(2,20):\n",
        "    knn_model = neighbors.KNeighborsRegressor(n_neighbors = K)\n",
        "    knn_model.fit(train_df, train_y)  #fit the model\n",
        "    pred=knn_model.predict(test_df) #make prediction on test set\n",
        "    \n",
        "    mae = mean_absolute_error(y_true, np.round(pred, 1))\n",
        "    mae_val.append(mae)\n",
        "    \n",
        "    mse = mean_squared_error(y_true, np.round(pred, 1))\n",
        "    mse_val.append(mse)\n",
        "    \n",
        "    rmse = mean_squared_error(y_true, np.round(pred, 1), squared=False)\n",
        "    rmse_val.append(rmse)\n",
        "    \n",
        "    r2 = r2_score(y_true, pred)\n",
        "    r2_val.append(r2)"
      ]
    },
    {
      "cell_type": "code",
      "execution_count": 27,
      "metadata": {
        "id": "1yA0BPQduQ6F"
      },
      "outputs": [],
      "source": [
        "y_true = test_y\n",
        "knn_preds = knn_model.predict(test_df)"
      ]
    },
    {
      "cell_type": "code",
      "execution_count": 28,
      "metadata": {
        "id": "ITjhzkC7uSDk"
      },
      "outputs": [],
      "source": [
        "min_val = min(r2_val)\n",
        "index = r2_val.index(min_val)\n",
        "knn_r2 = min_val\n",
        "knn_rmse = rmse_val[index]\n",
        "knn_mae = mae_val[index]\n",
        "knn_mse = mse_val[index]"
      ]
    },
    {
      "cell_type": "code",
      "execution_count": 29,
      "metadata": {
        "id": "U_qQQ8GfuS4c",
        "colab": {
          "base_uri": "https://localhost:8080/"
        },
        "outputId": "0592ee58-fd87-4254-87ad-aa3adb7ae80e"
      },
      "outputs": [
        {
          "output_type": "stream",
          "name": "stdout",
          "text": [
            "Mean Absolute Error (MAE):  1.22\n",
            "Mean Squared Error (MSE):  2.84\n",
            "Root Mean Squared Error (RMSE):  1.69\n",
            "R2 Score:  -0.41\n"
          ]
        }
      ],
      "source": [
        "print(\"Mean Absolute Error (MAE): \", np.round(knn_mae, 2))\n",
        "print(\"Mean Squared Error (MSE): \", np.round(knn_mse, 2))\n",
        "print(\"Root Mean Squared Error (RMSE): \", np.round(knn_rmse, 2))\n",
        "print(\"R2 Score: \", np.round(knn_r2, 2))"
      ]
    },
    {
      "cell_type": "code",
      "execution_count": 30,
      "metadata": {
        "id": "rBadpjdguT7b",
        "colab": {
          "base_uri": "https://localhost:8080/"
        },
        "outputId": "97659671-b04e-4a01-b9fc-cc984ce797a0"
      },
      "outputs": [
        {
          "output_type": "stream",
          "name": "stdout",
          "text": [
            "Mean Absolute Error (MAE):  1.31\n",
            "Mean Squared Error (MSE):  2.22\n",
            "Root Mean Squared Error (RMSE):  1.49\n",
            "Mean Absolute Percentage Error (MAPE):  538593751354920.9\n",
            "R2 Score:  -0.12\n"
          ]
        }
      ],
      "source": [
        "ada_reg = AdaBoostRegressor(n_estimators = 100, learning_rate=0.5)\n",
        "\n",
        "ada_reg.fit(train_df, train_y)\n",
        "\n",
        "ada_reg_pred = ada_reg.predict(pd.DataFrame(test_df))\n",
        "ada_reg_mae = mean_absolute_error(test_y, np.round(ada_reg_pred, 1))\n",
        "ada_reg_mse = mean_squared_error(test_y, np.round(ada_reg_pred, 1))\n",
        "ada_reg_mape = mean_absolute_percentage_error(test_y, np.round(ada_reg_pred,1), multioutput = \"uniform_average\")\n",
        "ada_reg_rmse = mean_squared_error(test_y, np.round(ada_reg_pred, 1), squared=False)\n",
        "ada_reg_r2 = r2_score(test_y, ada_reg_pred)\n",
        "\n",
        "print(\"Mean Absolute Error (MAE): \", np.round(ada_reg_mae, 2))\n",
        "print(\"Mean Squared Error (MSE): \", np.round(ada_reg_mse, 2))\n",
        "print(\"Root Mean Squared Error (RMSE): \", np.round(ada_reg_rmse, 2))\n",
        "print(\"Mean Absolute Percentage Error (MAPE): \", np.round(ada_reg_mape, 2))\n",
        "print(\"R2 Score: \", np.round(ada_reg_r2, 2))"
      ]
    },
    {
      "cell_type": "code",
      "execution_count": 31,
      "metadata": {
        "id": "hd_8qxaLuVqA",
        "colab": {
          "base_uri": "https://localhost:8080/"
        },
        "outputId": "5a60907a-f239-4058-f0e0-19ba96eb07c3"
      },
      "outputs": [
        {
          "output_type": "stream",
          "name": "stdout",
          "text": [
            "Mean Absolute Error (MAE):  1.06\n",
            "Mean Squared Error (MSE):  1.67\n",
            "Root Mean Squared Error (RMSE):  1.29\n",
            "Mean Absolute Percentage Error (MAPE):  435654331300738.06\n",
            "R2 Score:  0.15\n"
          ]
        }
      ],
      "source": [
        "gb_reg = GradientBoostingRegressor(n_estimators = 50, max_depth=5)\n",
        "\n",
        "gb_reg.fit(train_df, train_y)\n",
        "\n",
        "gb_reg_pred = gb_reg.predict(pd.DataFrame(test_df))\n",
        "gb_reg_mae = mean_absolute_error(test_y, np.round(gb_reg_pred, 1))\n",
        "gb_reg_mse = mean_squared_error(test_y, np.round(gb_reg_pred, 1))\n",
        "gb_reg_mape = mean_absolute_percentage_error(test_y, np.round(gb_reg_pred,1), multioutput = \"uniform_average\")\n",
        "gb_reg_rmse = mean_squared_error(test_y, np.round(gb_reg_pred, 1), squared=False)\n",
        "gb_reg_r2 = r2_score(test_y, gb_reg_pred)\n",
        "\n",
        "print(\"Mean Absolute Error (MAE): \", np.round(gb_reg_mae, 2))\n",
        "print(\"Mean Squared Error (MSE): \", np.round(gb_reg_mse, 2))\n",
        "print(\"Root Mean Squared Error (RMSE): \", np.round(gb_reg_rmse, 2))\n",
        "print(\"Mean Absolute Percentage Error (MAPE): \", np.round(gb_reg_mape, 2))\n",
        "print(\"R2 Score: \", np.round(gb_reg_r2, 2))"
      ]
    },
    {
      "cell_type": "code",
      "execution_count": 32,
      "metadata": {
        "id": "ZOVzEpPwudne",
        "colab": {
          "base_uri": "https://localhost:8080/"
        },
        "outputId": "b760d39c-183f-4d95-f7d6-6184ff7c6908"
      },
      "outputs": [
        {
          "output_type": "stream",
          "name": "stdout",
          "text": [
            "Mean Absolute Error (MAE):  1.13\n",
            "Mean Squared Error (MSE):  2.13\n",
            "Root Mean Squared Error (RMSE):  1.46\n",
            "Mean Absolute Percentage Error (MAPE):  395213844850880.5\n",
            "R2 Score:  -0.08\n"
          ]
        }
      ],
      "source": [
        "xg_reg = xgb.XGBRegressor(objective ='reg:squarederror', seed = 123)\n",
        "\n",
        "xg_reg.fit(train_df, train_y)\n",
        "\n",
        "# print(\"Best parameters: \", xg_boost_grid_search.best_params_)\n",
        "# print(\"Best score: \", xg_boost_grid_search.best_score_)\n",
        "xg_reg_pred = xg_reg.predict(pd.DataFrame(test_df))\n",
        "xg_reg_mae = mean_absolute_error(test_y, np.round(xg_reg_pred, 1))\n",
        "xg_reg_mse = mean_squared_error(test_y, np.round(xg_reg_pred, 1))\n",
        "xg_reg_mape = mean_absolute_percentage_error(test_y, np.round(xg_reg_pred,1), multioutput = \"uniform_average\")\n",
        "xg_reg_rmse = mean_squared_error(test_y, np.round(xg_reg_pred, 1), squared=False)\n",
        "xg_reg_r2 = r2_score(test_y, xg_reg_pred)\n",
        "\n",
        "print(\"Mean Absolute Error (MAE): \", np.round(xg_reg_mae, 2))\n",
        "print(\"Mean Squared Error (MSE): \", np.round(xg_reg_mse, 2))\n",
        "print(\"Root Mean Squared Error (RMSE): \", np.round(xg_reg_rmse, 2))\n",
        "print(\"Mean Absolute Percentage Error (MAPE): \", np.round(xg_reg_mape, 2))\n",
        "print(\"R2 Score: \", np.round(xg_reg_r2, 2))"
      ]
    },
    {
      "cell_type": "code",
      "execution_count": null,
      "metadata": {
        "id": "3vf6-Hd7wtkE"
      },
      "outputs": [],
      "source": [
        "32"
      ]
    }
  ],
  "metadata": {
    "colab": {
      "provenance": []
    },
    "kernelspec": {
      "display_name": "Python 3",
      "language": "python",
      "name": "python3"
    },
    "language_info": {
      "codemirror_mode": {
        "name": "ipython",
        "version": 3
      },
      "file_extension": ".py",
      "mimetype": "text/x-python",
      "name": "python",
      "nbconvert_exporter": "python",
      "pygments_lexer": "ipython3",
      "version": "3.8.8"
    }
  },
  "nbformat": 4,
  "nbformat_minor": 0
}