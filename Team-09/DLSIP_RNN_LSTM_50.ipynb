{
 "cells": [
  {
   "cell_type": "code",
   "execution_count": 1,
   "metadata": {
    "id": "yIr2sgojkYPx"
   },
   "outputs": [],
   "source": [
    "from keras.layers import Dense, Dropout, Conv1D, MaxPooling1D, Flatten, Embedding, SimpleRNN, GlobalMaxPooling1D, LSTM, Bidirectional, Layer, ActivityRegularization\n",
    "import warnings\n",
    "warnings.filterwarnings('ignore')\n",
    "from tensorflow.keras.callbacks import EarlyStopping\n",
    "\n",
    "import pandas as pd\n",
    "import numpy as np\n",
    "from keras.preprocessing.text import Tokenizer\n",
    "from tensorflow.keras.preprocessing.sequence import pad_sequences\n",
    "from imblearn.over_sampling import SMOTE\n",
    "from sklearn.model_selection import train_test_split\n",
    "from keras.models import Sequential\n",
    "import tensorflow as tf\n",
    "\n",
    "import tensorflow.keras.backend as K\n",
    "from tensorflow.keras import regularizers"
   ]
  },
  {
   "cell_type": "code",
   "execution_count": 2,
   "metadata": {
    "id": "bZOjeylWzJfT"
   },
   "outputs": [],
   "source": [
    "char_set = list(\n",
    "    \" abcdefghijklmnopqrstuvwxyzABCDEFGHIJKLMNOPQRSTUVWXYZ0123456789-'\\\"/+*.,!?;:()[]{}><@#$%^&=~`_|\\\\\")\n",
    "char_set = [''] + char_set\n",
    "\n",
    "char2int = {char_set[x]: x for x in range(len(char_set))}\n",
    "int2char = {x: char_set[x] for x in range(len(char_set))}\n",
    "\n",
    "# char2int\n",
    "\n",
    "# Character Encoding"
   ]
  },
  {
   "cell_type": "code",
   "execution_count": 3,
   "metadata": {
    "colab": {
     "base_uri": "https://localhost:8080/"
    },
    "id": "DiMq2IcrkjtO",
    "outputId": "85380af8-b633-4bb7-c536-f315bc05e5dc"
   },
   "outputs": [
    {
     "name": "stdout",
     "output_type": "stream",
     "text": [
      "686\n"
     ]
    }
   ],
   "source": [
    "\n",
    "dataset = pd.read_csv(\n",
    "    'sheet1.csv', usecols=[\"target_new\", \"INPUT\", \"Input_error\"])\n",
    "\n",
    "\n",
    "dataset[\"Y\"] = dataset[\"Input_error\"].map({\"Cat A\": 0, \"Cat B\": 1, \"Cat C\": 2, \"Cat D\": 3})\n",
    "dataset[\"X\"] = dataset[\"target_new\"] + \"\" + dataset[\"INPUT\"]\n",
    "dataset = dataset.drop([\"target_new\",\"INPUT\",\"Input_error\"], axis=1)\n",
    "# print(dataset[\"X\"].head())\n",
    "# tokenizer = Tokenizer(num_words=1000)\n",
    "# tokenizer.fit_on_texts(dataset[\"X\"].astype(str))\n",
    "# dataset[\"X\"] = tokenizer.texts_to_sequences(dataset[\"X\"].astype(str))\n",
    "\n",
    "dataset[\"X\"] = dataset[\"X\"].apply(lambda x: [char2int[i] for i in str(x)])\n",
    "\n",
    "dataset[\"X\"] = dataset[\"X\"].apply(lambda x: np.array(x))\n",
    "dataset[\"Y\"] = dataset[\"Y\"].apply(lambda x: np.array(x))\n",
    "\n",
    "# padding the data for equal length\n",
    "max_len = dataset[\"X\"].apply(lambda x: len(x)).max()\n",
    "dataset[\"X\"] = dataset[\"X\"].apply(lambda x: pad_sequences([x], maxlen=max_len,padding=\"post\",truncating=\"post\")[0])\n",
    "dataset[\"X\"] = dataset[\"X\"].apply(lambda x: np.array(x))\n",
    "dataset.dropna(inplace=True)\n",
    "print(max_len)"
   ]
  },
  {
   "cell_type": "code",
   "execution_count": 4,
   "metadata": {
    "id": "sJTNG7nglHcU"
   },
   "outputs": [],
   "source": [
    "x_train, x_test, y_train, y_test = train_test_split(dataset[\"X\"], dataset[\"Y\"], test_size=0.2, random_state=42)\n",
    "sm = SMOTE(random_state=25)\n",
    "\n",
    "x_train, y_train = sm.fit_resample(np.array(x_train.tolist()), np.array(y_train.tolist()))\n",
    "\n",
    "x_train, x_val, y_train, y_val = train_test_split(x_train, y_train, test_size=0.2, random_state=42)\n"
   ]
  },
  {
   "cell_type": "code",
   "execution_count": 5,
   "metadata": {
    "colab": {
     "base_uri": "https://localhost:8080/"
    },
    "id": "R-k3NR3TWPe-",
    "outputId": "b2ccad8d-5359-48bd-dd51-d5c195e4a7c3"
   },
   "outputs": [
    {
     "data": {
      "text/plain": [
       "7993"
      ]
     },
     "execution_count": 5,
     "metadata": {},
     "output_type": "execute_result"
    }
   ],
   "source": [
    "len(x_val)"
   ]
  },
  {
   "cell_type": "code",
   "execution_count": 6,
   "metadata": {
    "colab": {
     "base_uri": "https://localhost:8080/"
    },
    "id": "Z9ExeQzAoV1h",
    "outputId": "d20f7b3b-94af-4174-968c-0e2a935a12c0"
   },
   "outputs": [
    {
     "name": "stdout",
     "output_type": "stream",
     "text": [
      "<class 'numpy.ndarray'> <class 'pandas.core.series.Series'>\n"
     ]
    }
   ],
   "source": [
    "print(type(x_train),type(x_test))\n",
    "early_stop = EarlyStopping(monitor='accuracy', patience=3, verbose=1)"
   ]
  },
  {
   "cell_type": "code",
   "execution_count": 7,
   "metadata": {
    "colab": {
     "base_uri": "https://localhost:8080/"
    },
    "id": "Ib0jKKdzlLdG",
    "outputId": "74888c35-a762-4805-b58d-41f2c9caf36c"
   },
   "outputs": [
    {
     "name": "stdout",
     "output_type": "stream",
     "text": [
      "Model: \"sequential\"\n",
      "_________________________________________________________________\n",
      " Layer (type)                Output Shape              Param #   \n",
      "=================================================================\n",
      " embedding (Embedding)       (None, 686, 32)           32000     \n",
      "                                                                 \n",
      " bidirectional (Bidirectiona  (None, 686, 64)          16640     \n",
      " l)                                                              \n",
      "                                                                 \n",
      " bidirectional_1 (Bidirectio  (None, 32)               10368     \n",
      " nal)                                                            \n",
      "                                                                 \n",
      " dense (Dense)               (None, 64)                2112      \n",
      "                                                                 \n",
      " dense_1 (Dense)             (None, 4)                 260       \n",
      "                                                                 \n",
      "=================================================================\n",
      "Total params: 61,380\n",
      "Trainable params: 61,380\n",
      "Non-trainable params: 0\n",
      "_________________________________________________________________\n"
     ]
    }
   ],
   "source": [
    "# RNN with GRU\n",
    "model = Sequential()\n",
    "model.add(Embedding(input_dim=1000, output_dim=32, input_length=max_len))\n",
    "model.add(Bidirectional(LSTM(32, activation='relu', return_sequences=True)))\n",
    "model.add(Bidirectional(LSTM(16, activation='relu')))\n",
    "model.add(Dense(64, activation='relu'))\n",
    "model.add(Dense(4, activation='softmax'))\n",
    "\n",
    "model.compile(loss='sparse_categorical_crossentropy', optimizer='adam', metrics=['accuracy'])\n",
    "model.summary()"
   ]
  },
  {
   "cell_type": "code",
   "execution_count": 8,
   "metadata": {
    "colab": {
     "base_uri": "https://localhost:8080/",
     "height": 363
    },
    "id": "3AuolS4klN9F",
    "outputId": "c7adfba7-18d6-4079-bb8c-20a57ada5d69"
   },
   "outputs": [
    {
     "name": "stdout",
     "output_type": "stream",
     "text": [
      "Epoch 1/10\n",
      "500/500 [==============================] - 260s 514ms/step - loss: nan - accuracy: 0.2587 - val_loss: nan - val_accuracy: 0.2502\n",
      "Epoch 2/10\n",
      "500/500 [==============================] - 259s 518ms/step - loss: nan - accuracy: 0.2499 - val_loss: nan - val_accuracy: 0.2502\n",
      "Epoch 3/10\n",
      "500/500 [==============================] - 269s 538ms/step - loss: nan - accuracy: 0.2499 - val_loss: nan - val_accuracy: 0.2502\n",
      "Epoch 4/10\n",
      "500/500 [==============================] - 271s 542ms/step - loss: nan - accuracy: 0.2499 - val_loss: nan - val_accuracy: 0.2502\n",
      "Epoch 5/10\n",
      "500/500 [==============================] - 277s 554ms/step - loss: nan - accuracy: 0.2499 - val_loss: nan - val_accuracy: 0.2502\n",
      "Epoch 6/10\n",
      "500/500 [==============================] - 263s 525ms/step - loss: nan - accuracy: 0.2499 - val_loss: nan - val_accuracy: 0.2502\n",
      "Epoch 7/10\n",
      "500/500 [==============================] - 252s 504ms/step - loss: nan - accuracy: 0.2499 - val_loss: nan - val_accuracy: 0.2502\n",
      "Epoch 8/10\n",
      "500/500 [==============================] - 311s 621ms/step - loss: nan - accuracy: 0.2499 - val_loss: nan - val_accuracy: 0.2502\n",
      "Epoch 9/10\n",
      "500/500 [==============================] - 369s 737ms/step - loss: nan - accuracy: 0.2499 - val_loss: nan - val_accuracy: 0.2502\n",
      "Epoch 10/10\n",
      "500/500 [==============================] - 341s 683ms/step - loss: nan - accuracy: 0.2499 - val_loss: nan - val_accuracy: 0.2502\n"
     ]
    }
   ],
   "source": [
    "with tf.device(tf.test.gpu_device_name()):\n",
    "    history = model.fit(x_train, y_train, epochs=10, batch_size=64, validation_data=(x_val, y_val))"
   ]
  },
  {
   "cell_type": "code",
   "execution_count": 9,
   "metadata": {
    "colab": {
     "base_uri": "https://localhost:8080/"
    },
    "id": "KQ8nlV5Sn2mm",
    "outputId": "40f8e7d3-ccd3-4b7b-d697-c8fc43689cdb"
   },
   "outputs": [
    {
     "name": "stdout",
     "output_type": "stream",
     "text": [
      "161/161 [==============================] - 20s 125ms/step - loss: nan - accuracy: 0.4365\n",
      "test loss, test acc: [nan, 0.43648019433021545]\n"
     ]
    }
   ],
   "source": [
    "results = model.evaluate(np.array(x_test.tolist()), np.array(y_test.tolist()))\n",
    "print(\"test loss, test acc:\", results)"
   ]
  },
  {
   "cell_type": "code",
   "execution_count": 10,
   "metadata": {
    "id": "jnUm6zoU0RdM"
   },
   "outputs": [],
   "source": [
    "model.save('model_50_LSTM.h5')"
   ]
  },
  {
   "cell_type": "markdown",
   "metadata": {
    "id": "LVgA5m9NP9FZ"
   },
   "source": [
    "# Testing using Saved Model"
   ]
  },
  {
   "cell_type": "code",
   "execution_count": 11,
   "metadata": {
    "colab": {
     "base_uri": "https://localhost:8080/"
    },
    "id": "X0aPFX-wP2eZ",
    "outputId": "1c9ddd0c-7a69-45d4-cdb1-453f6d13a754"
   },
   "outputs": [],
   "source": [
    "import tensorflow as tf\n",
    "\n",
    "# Load the pre-trained model\n",
    "model = tf.keras.models.load_model('model_50_LSTM.h5')  # Replace with your actual file path\n"
   ]
  },
  {
   "cell_type": "code",
   "execution_count": 12,
   "metadata": {
    "colab": {
     "base_uri": "https://localhost:8080/"
    },
    "id": "gDtK7knWQLU6",
    "outputId": "4e4c2c07-0fa6-4142-b4f7-ea8e8fd2df77"
   },
   "outputs": [
    {
     "name": "stdout",
     "output_type": "stream",
     "text": [
      "250/250 [==============================] - 31s 123ms/step\n",
      "test loss, test acc: [[nan nan nan nan]\n",
      " [nan nan nan nan]\n",
      " [nan nan nan nan]\n",
      " ...\n",
      " [nan nan nan nan]\n",
      " [nan nan nan nan]\n",
      " [nan nan nan nan]]\n",
      "<class 'numpy.ndarray'>\n"
     ]
    }
   ],
   "source": [
    "predict = model.predict(x_val)\n",
    "\n",
    "print(\"test loss, test acc:\", predict)\n",
    "print(type(predict))"
   ]
  },
  {
   "cell_type": "code",
   "execution_count": 13,
   "metadata": {
    "id": "vanPDY1UWYfo"
   },
   "outputs": [],
   "source": [
    "y_pred = np.argmax(predict,axis = 1)\n"
   ]
  },
  {
   "cell_type": "markdown",
   "metadata": {
    "id": "froxVENIXFou"
   },
   "source": [
    "# Confusion Matrix"
   ]
  },
  {
   "cell_type": "code",
   "execution_count": 14,
   "metadata": {
    "colab": {
     "base_uri": "https://localhost:8080/",
     "height": 559
    },
    "id": "XA6fh0TKW3MR",
    "outputId": "01d5aacc-a9f5-4b62-e21b-ce75a0980234"
   },
   "outputs": [
    {
     "name": "stdout",
     "output_type": "stream",
     "text": [
      "Confusion Matrix:\n",
      "[[2000    0    0    0]\n",
      " [1992    0    0    0]\n",
      " [2026    0    0    0]\n",
      " [1975    0    0    0]]\n"
     ]
    },
    {
     "data": {
      "image/png": "[encoded data removed]",
      "text/plain": [
       "<Figure size 432x288 with 2 Axes>"
      ]
     },
     "metadata": {
      "needs_background": "light"
     },
     "output_type": "display_data"
    }
   ],
   "source": [
    "import numpy as np\n",
    "import matplotlib.pyplot as plt\n",
    "from sklearn.metrics import confusion_matrix\n",
    "\n",
    "# # True labels\n",
    "# true_labels = [0, 1, 2, 1, 0, 3, 2, 0, 1, 2, 3, 3]\n",
    "\n",
    "# # Predicted labels\n",
    "# predicted_labels = [0, 2, 1, 1, 0, 3, 2, 0, 2, 2, 3, 1]\n",
    "\n",
    "# Calculate confusion matrix\n",
    "cm = confusion_matrix(y_val, y_pred)\n",
    "\n",
    "# Print confusion matrix\n",
    "print(\"Confusion Matrix:\")\n",
    "print(cm)\n",
    "\n",
    "# Plot confusion matrix\n",
    "plt.imshow(cm, interpolation='nearest', cmap=plt.cm.Blues)\n",
    "plt.colorbar()\n",
    "tick_marks = np.arange(len(np.unique(y_val)))\n",
    "plt.xticks(tick_marks, np.unique(y_val))\n",
    "plt.yticks(tick_marks, np.unique(y_val))\n",
    "plt.xlabel('Predicted')\n",
    "plt.ylabel('True')\n",
    "plt.title('Confusion Matrix')\n",
    "plt.show()\n"
   ]
  },
  {
   "cell_type": "markdown",
   "metadata": {
    "id": "sw11_qaYdfkV"
   },
   "source": [
    "# Graphs"
   ]
  },
  {
   "cell_type": "code",
   "execution_count": 15,
   "metadata": {
    "id": "ObjDc0H4MiDG",
    "outputId": "ab0ced88-75b6-4599-ecee-445f7dbc5655"
   },
   "outputs": [
    {
     "data": {
      "image/png": "[encoded data removed]",
      "text/plain": [
       "<Figure size 432x288 with 1 Axes>"
      ]
     },
     "metadata": {
      "needs_background": "light"
     },
     "output_type": "display_data"
    }
   ],
   "source": [
    "\n",
    "plt.plot(history.history['accuracy'])\n",
    "plt.plot(history.history['val_accuracy'])\n",
    "plt.title('model accuracy')\n",
    "plt.ylabel('accuracy')\n",
    "plt.xlabel('epoch')\n",
    "plt.legend(['train_acc', 'val_acc'], loc='upper left')\n",
    "plt.show()"
   ]
  },
  {
   "cell_type": "code",
   "execution_count": 16,
   "metadata": {},
   "outputs": [
    {
     "data": {
      "image/png": "[encoded data removed]",
      "text/plain": [
       "<Figure size 432x288 with 1 Axes>"
      ]
     },
     "metadata": {
      "needs_background": "light"
     },
     "output_type": "display_data"
    }
   ],
   "source": [
    "plt.plot(history.history['loss'])\n",
    "plt.plot(history.history['val_loss'])\n",
    "plt.title('model loss')\n",
    "plt.ylabel('loss')\n",
    "plt.xlabel('epoch')\n",
    "plt.legend(['train_loss', 'val_loss'], loc='upper left')\n",
    "plt.show()"
   ]
  },
  {
   "cell_type": "code",
   "execution_count": 17,
   "metadata": {},
   "outputs": [
    {
     "name": "stdout",
     "output_type": "stream",
     "text": [
      "[[36  1  2 14  1  6  2 21 10 15  8  1  3 19 10  4 12 20  0  0  0  0  0  0\n",
      "   0  0  0  0  0  0  0  0  0  0  0  0  0  0  0  0  0  0  0  0  0  0  0  0\n",
      "   0  0  0  0  0  0  0  0  0  0  0  0  0  0  0  0  0  0  0  0  0  0  0  0\n",
      "   0  0  0  0  0  0  0  0  0  0  0  0  0  0  0  0  0  0  0  0  0  0  0  0\n",
      "   0  0  0  0  0  0  0  0  0  0  0  0  0  0  0  0  0  0  0  0  0  0  0  0\n",
      "   0  0  0  0  0  0  0  0  0  0  0  0  0  0  0  0  0  0  0  0  0  0  0  0\n",
      "   0  0  0  0  0  0  0  0  0  0  0  0  0  0  0  0  0  0  0  0  0  0  0  0\n",
      "   0  0  0  0  0  0  0  0  0  0  0  0  0  0  0  0  0  0  0  0  0  0  0  0\n",
      "   0  0  0  0  0  0  0  0  0  0  0  0  0  0  0  0  0  0  0  0  0  0  0  0\n",
      "   0  0  0  0  0  0  0  0  0  0  0  0  0  0  0  0  0  0  0  0  0  0  0  0\n",
      "   0  0  0  0  0  0  0  0  0  0  0  0  0  0  0  0  0  0  0  0  0  0  0  0\n",
      "   0  0  0  0  0  0  0  0  0  0  0  0  0  0  0  0  0  0  0  0  0  0  0  0\n",
      "   0  0  0  0  0  0  0  0  0  0  0  0  0  0  0  0  0  0  0  0  0  0  0  0\n",
      "   0  0  0  0  0  0  0  0  0  0  0  0  0  0  0  0  0  0  0  0  0  0  0  0\n",
      "   0  0  0  0  0  0  0  0  0  0  0  0  0  0  0  0  0  0  0  0  0  0  0  0\n",
      "   0  0  0  0  0  0  0  0  0  0  0  0  0  0  0  0  0  0  0  0  0  0  0  0\n",
      "   0  0  0  0  0  0  0  0  0  0  0  0  0  0  0  0  0  0  0  0  0  0  0  0\n",
      "   0  0  0  0  0  0  0  0  0  0  0  0  0  0  0  0  0  0  0  0  0  0  0  0\n",
      "   0  0  0  0  0  0  0  0  0  0  0  0  0  0  0  0  0  0  0  0  0  0  0  0\n",
      "   0  0  0  0  0  0  0  0  0  0  0  0  0  0  0  0  0  0  0  0  0  0  0  0\n",
      "   0  0  0  0  0  0  0  0  0  0  0  0  0  0  0  0  0  0  0  0  0  0  0  0\n",
      "   0  0  0  0  0  0  0  0  0  0  0  0  0  0  0  0  0  0  0  0  0  0  0  0\n",
      "   0  0  0  0  0  0  0  0  0  0  0  0  0  0  0  0  0  0  0  0  0  0  0  0\n",
      "   0  0  0  0  0  0  0  0  0  0  0  0  0  0  0  0  0  0  0  0  0  0  0  0\n",
      "   0  0  0  0  0  0  0  0  0  0  0  0  0  0  0  0  0  0  0  0  0  0  0  0\n",
      "   0  0  0  0  0  0  0  0  0  0  0  0  0  0  0  0  0  0  0  0  0  0  0  0\n",
      "   0  0  0  0  0  0  0  0  0  0  0  0  0  0  0  0  0  0  0  0  0  0  0  0\n",
      "   0  0  0  0  0  0  0  0  0  0  0  0  0  0  0  0  0  0  0  0  0  0  0  0\n",
      "   0  0  0  0  0  0  0  0  0  0  0  0  0  0]]\n",
      "1/1 [==============================] - 0s 105ms/step\n",
      "test loss, test acc: [[nan nan nan nan]]\n",
      "0\n"
     ]
    }
   ],
   "source": [
    "def predict(input_new):\n",
    "  input_new =  input_new\n",
    "  input_new = [char2int[i] for i in str(input_new)]\n",
    "  input_new = pad_sequences([input_new], maxlen=max_len,padding=\"post\",truncating=\"post\")[0]\n",
    "  input_new = np.array(input_new)\n",
    "  input_new = np.array([input_new])\n",
    "  print(input_new)\n",
    "  return model.predict(input_new)\n",
    "\n",
    "\n",
    "input_new = \"I am eating bricks\"\n",
    "\n",
    "pridiction = predict(input_new)\n",
    "print(\"test loss, test acc:\", pridiction)\n",
    "print(np.argmax(pridiction))\n",
    "\n"
   ]
  },
  {
   "cell_type": "code",
   "execution_count": null,
   "metadata": {},
   "outputs": [],
   "source": []
  }
 ],
 "metadata": {
  "accelerator": "GPU",
  "colab": {
   "gpuType": "T4",
   "provenance": []
  },
  "kernelspec": {
   "display_name": "Python 3 (ipykernel)",
   "language": "python",
   "name": "python3"
  },
  "language_info": {
   "codemirror_mode": {
    "name": "ipython",
    "version": 3
   },
   "file_extension": ".py",
   "mimetype": "text/x-python",
   "name": "python",
   "nbconvert_exporter": "python",
   "pygments_lexer": "ipython3",
   "version": "3.9.7"
  }
 },
 "nbformat": 4,
 "nbformat_minor": 1
}
