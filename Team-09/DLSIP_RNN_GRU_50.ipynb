{
 "cells": [
  {
   "cell_type": "code",
   "execution_count": 1,
   "metadata": {
    "id": "yIr2sgojkYPx"
   },
   "outputs": [],
   "source": [
    "from keras.layers import Dense, Dropout, Conv1D, MaxPooling1D, Flatten, Embedding, SimpleRNN, GlobalMaxPooling1D, GRU, Bidirectional, Layer, ActivityRegularization\n",
    "import warnings\n",
    "warnings.filterwarnings('ignore')\n",
    "from tensorflow.keras.callbacks import EarlyStopping\n",
    "\n",
    "import pandas as pd\n",
    "import numpy as np\n",
    "from keras.preprocessing.text import Tokenizer\n",
    "from tensorflow.keras.preprocessing.sequence import pad_sequences\n",
    "from imblearn.over_sampling import SMOTE\n",
    "from sklearn.model_selection import train_test_split\n",
    "from keras.models import Sequential\n",
    "import tensorflow as tf\n",
    "\n",
    "import tensorflow.keras.backend as K\n",
    "from tensorflow.keras import regularizers"
   ]
  },
  {
   "cell_type": "code",
   "execution_count": 2,
   "metadata": {
    "id": "bZOjeylWzJfT"
   },
   "outputs": [],
   "source": [
    "char_set = list(\n",
    "    \" abcdefghijklmnopqrstuvwxyzABCDEFGHIJKLMNOPQRSTUVWXYZ0123456789-'\\\"/+*.,!?;:()[]{}><@#$%^&=~`_|\\\\\")\n",
    "char_set = [''] + char_set\n",
    "\n",
    "char2int = {char_set[x]: x for x in range(len(char_set))}\n",
    "int2char = {x: char_set[x] for x in range(len(char_set))}\n",
    "\n",
    "# char2int\n",
    "\n",
    "# Character Encoding"
   ]
  },
  {
   "cell_type": "code",
   "execution_count": 3,
   "metadata": {
    "colab": {
     "base_uri": "https://localhost:8080/"
    },
    "id": "DiMq2IcrkjtO",
    "outputId": "85380af8-b633-4bb7-c536-f315bc05e5dc"
   },
   "outputs": [
    {
     "name": "stdout",
     "output_type": "stream",
     "text": [
      "686\n"
     ]
    }
   ],
   "source": [
    "\n",
    "dataset = pd.read_csv(\n",
    "    'sheet1.csv', usecols=[\"target_new\", \"INPUT\", \"Input_error\"])\n",
    "\n",
    "\n",
    "dataset[\"Y\"] = dataset[\"Input_error\"].map({\"Cat A\": 0, \"Cat B\": 1, \"Cat C\": 2, \"Cat D\": 3})\n",
    "dataset[\"X\"] = dataset[\"target_new\"] + \"\" + dataset[\"INPUT\"]\n",
    "dataset = dataset.drop([\"target_new\",\"INPUT\",\"Input_error\"], axis=1)\n",
    "# print(dataset[\"X\"].head())\n",
    "# tokenizer = Tokenizer(num_words=1000)\n",
    "# tokenizer.fit_on_texts(dataset[\"X\"].astype(str))\n",
    "# dataset[\"X\"] = tokenizer.texts_to_sequences(dataset[\"X\"].astype(str))\n",
    "\n",
    "dataset[\"X\"] = dataset[\"X\"].apply(lambda x: [char2int[i] for i in str(x)])\n",
    "\n",
    "dataset[\"X\"] = dataset[\"X\"].apply(lambda x: np.array(x))\n",
    "dataset[\"Y\"] = dataset[\"Y\"].apply(lambda x: np.array(x))\n",
    "\n",
    "# padding the data for equal length\n",
    "max_len = dataset[\"X\"].apply(lambda x: len(x)).max()\n",
    "dataset[\"X\"] = dataset[\"X\"].apply(lambda x: pad_sequences([x], maxlen=max_len,padding=\"post\",truncating=\"post\")[0])\n",
    "dataset[\"X\"] = dataset[\"X\"].apply(lambda x: np.array(x))\n",
    "dataset.dropna(inplace=True)\n",
    "print(max_len)"
   ]
  },
  {
   "cell_type": "code",
   "execution_count": 4,
   "metadata": {
    "id": "sJTNG7nglHcU"
   },
   "outputs": [],
   "source": [
    "x_train, x_test, y_train, y_test = train_test_split(dataset[\"X\"], dataset[\"Y\"], test_size=0.2, random_state=42)\n",
    "sm = SMOTE(random_state=25)\n",
    "\n",
    "x_train, y_train = sm.fit_resample(np.array(x_train.tolist()), np.array(y_train.tolist()))\n",
    "\n",
    "x_train, x_val, y_train, y_val = train_test_split(x_train, y_train, test_size=0.2, random_state=42)\n"
   ]
  },
  {
   "cell_type": "code",
   "execution_count": 5,
   "metadata": {
    "colab": {
     "base_uri": "https://localhost:8080/"
    },
    "id": "R-k3NR3TWPe-",
    "outputId": "b2ccad8d-5359-48bd-dd51-d5c195e4a7c3"
   },
   "outputs": [
    {
     "data": {
      "text/plain": [
       "7993"
      ]
     },
     "execution_count": 5,
     "metadata": {},
     "output_type": "execute_result"
    }
   ],
   "source": [
    "len(x_val)"
   ]
  },
  {
   "cell_type": "code",
   "execution_count": 6,
   "metadata": {
    "colab": {
     "base_uri": "https://localhost:8080/"
    },
    "id": "Z9ExeQzAoV1h",
    "outputId": "d20f7b3b-94af-4174-968c-0e2a935a12c0"
   },
   "outputs": [
    {
     "name": "stdout",
     "output_type": "stream",
     "text": [
      "<class 'numpy.ndarray'> <class 'pandas.core.series.Series'>\n"
     ]
    }
   ],
   "source": [
    "print(type(x_train),type(x_test))\n",
    "early_stop = EarlyStopping(monitor='accuracy', patience=3, verbose=1)"
   ]
  },
  {
   "cell_type": "code",
   "execution_count": 7,
   "metadata": {
    "colab": {
     "base_uri": "https://localhost:8080/"
    },
    "id": "Ib0jKKdzlLdG",
    "outputId": "74888c35-a762-4805-b58d-41f2c9caf36c"
   },
   "outputs": [
    {
     "name": "stdout",
     "output_type": "stream",
     "text": [
      "Model: \"sequential\"\n",
      "_________________________________________________________________\n",
      " Layer (type)                Output Shape              Param #   \n",
      "=================================================================\n",
      " embedding (Embedding)       (None, 686, 32)           32000     \n",
      "                                                                 \n",
      " bidirectional (Bidirectiona  (None, 686, 64)          12672     \n",
      " l)                                                              \n",
      "                                                                 \n",
      " bidirectional_1 (Bidirectio  (None, 32)               7872      \n",
      " nal)                                                            \n",
      "                                                                 \n",
      " dense (Dense)               (None, 64)                2112      \n",
      "                                                                 \n",
      " dense_1 (Dense)             (None, 4)                 260       \n",
      "                                                                 \n",
      "=================================================================\n",
      "Total params: 54,916\n",
      "Trainable params: 54,916\n",
      "Non-trainable params: 0\n",
      "_________________________________________________________________\n"
     ]
    }
   ],
   "source": [
    "# RNN with GRU\n",
    "model = Sequential()\n",
    "model.add(Embedding(input_dim=1000, output_dim=32, input_length=max_len))\n",
    "model.add(Bidirectional(GRU(32, activation='relu', return_sequences=True)))\n",
    "model.add(Bidirectional(GRU(16, activation='relu')))\n",
    "model.add(Dense(64, activation='relu'))\n",
    "model.add(Dense(4, activation='softmax'))\n",
    "\n",
    "model.compile(loss='sparse_categorical_crossentropy', optimizer='adam', metrics=['accuracy'])\n",
    "model.summary()"
   ]
  },
  {
   "cell_type": "code",
   "execution_count": 8,
   "metadata": {
    "colab": {
     "base_uri": "https://localhost:8080/",
     "height": 363
    },
    "id": "3AuolS4klN9F",
    "outputId": "c7adfba7-18d6-4079-bb8c-20a57ada5d69"
   },
   "outputs": [
    {
     "name": "stdout",
     "output_type": "stream",
     "text": [
      "Epoch 1/50\n",
      "500/500 [==============================] - 354s 698ms/step - loss: 0.9909 - accuracy: 0.4918 - val_loss: 0.9083 - val_accuracy: 0.5547\n",
      "Epoch 2/50\n",
      "500/500 [==============================] - 349s 698ms/step - loss: 0.9285 - accuracy: 0.5532 - val_loss: 0.8945 - val_accuracy: 0.5696\n",
      "Epoch 3/50\n",
      "500/500 [==============================] - 257s 513ms/step - loss: 0.8586 - accuracy: 0.6025 - val_loss: 0.8446 - val_accuracy: 0.6169\n",
      "Epoch 4/50\n",
      "500/500 [==============================] - 249s 498ms/step - loss: 0.8455 - accuracy: 0.6093 - val_loss: 0.8483 - val_accuracy: 0.6099\n",
      "Epoch 5/50\n",
      "500/500 [==============================] - 248s 496ms/step - loss: 0.8399 - accuracy: 0.6161 - val_loss: 0.8399 - val_accuracy: 0.6120\n",
      "Epoch 6/50\n",
      "500/500 [==============================] - 260s 520ms/step - loss: 0.8349 - accuracy: 0.6199 - val_loss: 0.8371 - val_accuracy: 0.6200\n",
      "Epoch 7/50\n",
      "500/500 [==============================] - 274s 548ms/step - loss: 0.8302 - accuracy: 0.6227 - val_loss: 0.8494 - val_accuracy: 0.6102\n",
      "Epoch 8/50\n",
      "500/500 [==============================] - 269s 537ms/step - loss: 0.8239 - accuracy: 0.6279 - val_loss: 0.8290 - val_accuracy: 0.6257\n",
      "Epoch 9/50\n",
      "500/500 [==============================] - 260s 520ms/step - loss: 0.8184 - accuracy: 0.6294 - val_loss: 0.8239 - val_accuracy: 0.6297\n",
      "Epoch 10/50\n",
      "500/500 [==============================] - 262s 524ms/step - loss: 0.8132 - accuracy: 0.6305 - val_loss: 0.8068 - val_accuracy: 0.6412\n",
      "Epoch 11/50\n",
      "500/500 [==============================] - 275s 550ms/step - loss: 0.8078 - accuracy: 0.6319 - val_loss: 0.8228 - val_accuracy: 0.6220\n",
      "Epoch 12/50\n",
      "500/500 [==============================] - 267s 535ms/step - loss: 0.8011 - accuracy: 0.6347 - val_loss: 0.7969 - val_accuracy: 0.6441\n",
      "Epoch 13/50\n",
      "500/500 [==============================] - 281s 562ms/step - loss: 0.7937 - accuracy: 0.6375 - val_loss: 0.7934 - val_accuracy: 0.6434\n",
      "Epoch 14/50\n",
      "500/500 [==============================] - 266s 532ms/step - loss: 0.7882 - accuracy: 0.6395 - val_loss: 0.7946 - val_accuracy: 0.6426\n",
      "Epoch 15/50\n",
      "500/500 [==============================] - 256s 511ms/step - loss: 0.7820 - accuracy: 0.6395 - val_loss: 0.7893 - val_accuracy: 0.6431\n",
      "Epoch 16/50\n",
      "500/500 [==============================] - 254s 507ms/step - loss: 0.7732 - accuracy: 0.6435 - val_loss: 0.7773 - val_accuracy: 0.6506\n",
      "Epoch 17/50\n",
      "500/500 [==============================] - 254s 509ms/step - loss: 0.7673 - accuracy: 0.6473 - val_loss: 0.7713 - val_accuracy: 0.6541\n",
      "Epoch 18/50\n",
      "500/500 [==============================] - 248s 496ms/step - loss: 0.7628 - accuracy: 0.6478 - val_loss: 0.7793 - val_accuracy: 0.6489\n",
      "Epoch 19/50\n",
      "500/500 [==============================] - 251s 501ms/step - loss: 0.7579 - accuracy: 0.6518 - val_loss: 0.7751 - val_accuracy: 0.6471\n",
      "Epoch 20/50\n",
      "500/500 [==============================] - 250s 501ms/step - loss: 0.7520 - accuracy: 0.6555 - val_loss: 0.7622 - val_accuracy: 0.6567\n",
      "Epoch 21/50\n",
      "500/500 [==============================] - 251s 502ms/step - loss: 0.7486 - accuracy: 0.6587 - val_loss: 0.7647 - val_accuracy: 0.6601\n",
      "Epoch 22/50\n",
      "500/500 [==============================] - 251s 501ms/step - loss: 0.7420 - accuracy: 0.6612 - val_loss: 0.7538 - val_accuracy: 0.6647\n",
      "Epoch 23/50\n",
      "500/500 [==============================] - 251s 501ms/step - loss: 0.7366 - accuracy: 0.6634 - val_loss: 0.7588 - val_accuracy: 0.6592\n",
      "Epoch 24/50\n",
      "500/500 [==============================] - 251s 502ms/step - loss: 0.7325 - accuracy: 0.6643 - val_loss: 0.7482 - val_accuracy: 0.6686\n",
      "Epoch 25/50\n",
      "500/500 [==============================] - 252s 503ms/step - loss: 0.7260 - accuracy: 0.6694 - val_loss: 0.7400 - val_accuracy: 0.6705\n",
      "Epoch 26/50\n",
      "500/500 [==============================] - 252s 503ms/step - loss: 0.7230 - accuracy: 0.6696 - val_loss: 0.7500 - val_accuracy: 0.6656\n",
      "Epoch 27/50\n",
      "500/500 [==============================] - 253s 507ms/step - loss: 0.7170 - accuracy: 0.6738 - val_loss: 0.7477 - val_accuracy: 0.6655\n",
      "Epoch 28/50\n",
      "500/500 [==============================] - 262s 525ms/step - loss: 0.7115 - accuracy: 0.6768 - val_loss: 0.7573 - val_accuracy: 0.6548\n",
      "Epoch 29/50\n",
      "500/500 [==============================] - 265s 531ms/step - loss: 0.7054 - accuracy: 0.6801 - val_loss: 0.7343 - val_accuracy: 0.6775\n",
      "Epoch 30/50\n",
      "500/500 [==============================] - 272s 545ms/step - loss: 0.7005 - accuracy: 0.6830 - val_loss: 0.7383 - val_accuracy: 0.6706\n",
      "Epoch 31/50\n",
      "500/500 [==============================] - 266s 532ms/step - loss: 0.6959 - accuracy: 0.6856 - val_loss: 0.7321 - val_accuracy: 0.6707\n",
      "Epoch 32/50\n",
      "500/500 [==============================] - 267s 533ms/step - loss: 0.6871 - accuracy: 0.6903 - val_loss: 0.7326 - val_accuracy: 0.6780\n",
      "Epoch 33/50\n",
      "500/500 [==============================] - 270s 540ms/step - loss: 0.6814 - accuracy: 0.6936 - val_loss: 0.7314 - val_accuracy: 0.6785\n",
      "Epoch 34/50\n",
      "500/500 [==============================] - 278s 557ms/step - loss: 0.6772 - accuracy: 0.6974 - val_loss: 0.7420 - val_accuracy: 0.6688\n",
      "Epoch 35/50\n",
      "500/500 [==============================] - 282s 563ms/step - loss: 0.6707 - accuracy: 0.7002 - val_loss: 0.7405 - val_accuracy: 0.6815\n",
      "Epoch 36/50\n",
      "500/500 [==============================] - 285s 571ms/step - loss: 0.6670 - accuracy: 0.7026 - val_loss: 0.7447 - val_accuracy: 0.6836\n",
      "Epoch 37/50\n",
      "500/500 [==============================] - 288s 575ms/step - loss: 0.6603 - accuracy: 0.7055 - val_loss: 0.7270 - val_accuracy: 0.6803\n",
      "Epoch 38/50\n",
      "500/500 [==============================] - 275s 549ms/step - loss: 0.6518 - accuracy: 0.7092 - val_loss: 0.7440 - val_accuracy: 0.6753\n",
      "Epoch 39/50\n",
      "500/500 [==============================] - 283s 565ms/step - loss: 0.6457 - accuracy: 0.7128 - val_loss: 0.7398 - val_accuracy: 0.6778\n",
      "Epoch 40/50\n",
      "500/500 [==============================] - 294s 588ms/step - loss: 0.6408 - accuracy: 0.7167 - val_loss: 0.7339 - val_accuracy: 0.6818\n",
      "Epoch 41/50\n",
      "500/500 [==============================] - 299s 599ms/step - loss: 0.6324 - accuracy: 0.7216 - val_loss: 0.7305 - val_accuracy: 0.6880\n",
      "Epoch 42/50\n",
      "500/500 [==============================] - 305s 609ms/step - loss: 0.6273 - accuracy: 0.7258 - val_loss: 0.7226 - val_accuracy: 0.6853\n",
      "Epoch 43/50\n",
      "500/500 [==============================] - 312s 623ms/step - loss: 0.6227 - accuracy: 0.7283 - val_loss: 0.7190 - val_accuracy: 0.6855\n",
      "Epoch 44/50\n",
      "500/500 [==============================] - 306s 612ms/step - loss: 0.6164 - accuracy: 0.7315 - val_loss: 0.7575 - val_accuracy: 0.6820\n",
      "Epoch 45/50\n",
      "500/500 [==============================] - 316s 632ms/step - loss: 0.6094 - accuracy: 0.7337 - val_loss: 0.7279 - val_accuracy: 0.6894\n",
      "Epoch 46/50\n",
      "500/500 [==============================] - 312s 625ms/step - loss: 0.6039 - accuracy: 0.7364 - val_loss: 0.7210 - val_accuracy: 0.6927\n",
      "Epoch 47/50\n",
      "500/500 [==============================] - 322s 645ms/step - loss: 0.6012 - accuracy: 0.7372 - val_loss: 0.7491 - val_accuracy: 0.6847\n",
      "Epoch 48/50\n",
      "500/500 [==============================] - 325s 649ms/step - loss: 0.5919 - accuracy: 0.7446 - val_loss: 0.7294 - val_accuracy: 0.6915\n",
      "Epoch 49/50\n",
      "500/500 [==============================] - 328s 657ms/step - loss: 0.5872 - accuracy: 0.7480 - val_loss: 0.7440 - val_accuracy: 0.6955\n",
      "Epoch 50/50\n",
      "500/500 [==============================] - 330s 660ms/step - loss: 0.5786 - accuracy: 0.7532 - val_loss: 0.7553 - val_accuracy: 0.6879\n"
     ]
    }
   ],
   "source": [
    "with tf.device(tf.test.gpu_device_name()):\n",
    "    history = model.fit(x_train, y_train, epochs=50, batch_size=64, validation_data=(x_val, y_val))"
   ]
  },
  {
   "cell_type": "code",
   "execution_count": 9,
   "metadata": {
    "colab": {
     "base_uri": "https://localhost:8080/"
    },
    "id": "KQ8nlV5Sn2mm",
    "outputId": "40f8e7d3-ccd3-4b7b-d697-c8fc43689cdb"
   },
   "outputs": [
    {
     "name": "stdout",
     "output_type": "stream",
     "text": [
      "161/161 [==============================] - 18s 109ms/step - loss: 0.8425 - accuracy: 0.6787\n",
      "test loss, test acc: [0.8425188660621643, 0.6787101626396179]\n"
     ]
    }
   ],
   "source": [
    "results = model.evaluate(np.array(x_test.tolist()), np.array(y_test.tolist()))\n",
    "print(\"test loss, test acc:\", results)"
   ]
  },
  {
   "cell_type": "code",
   "execution_count": 10,
   "metadata": {
    "id": "jnUm6zoU0RdM"
   },
   "outputs": [],
   "source": [
    "model.save('model_50_epochs.h5')"
   ]
  },
  {
   "cell_type": "markdown",
   "metadata": {
    "id": "LVgA5m9NP9FZ"
   },
   "source": [
    "# Testing using Saved Model"
   ]
  },
  {
   "cell_type": "code",
   "execution_count": 11,
   "metadata": {
    "colab": {
     "base_uri": "https://localhost:8080/"
    },
    "id": "X0aPFX-wP2eZ",
    "outputId": "1c9ddd0c-7a69-45d4-cdb1-453f6d13a754"
   },
   "outputs": [],
   "source": [
    "import tensorflow as tf\n",
    "\n",
    "# Load the pre-trained model\n",
    "model = tf.keras.models.load_model('model_50_epochs.h5')  # Replace with your actual file path\n"
   ]
  },
  {
   "cell_type": "code",
   "execution_count": 12,
   "metadata": {
    "colab": {
     "base_uri": "https://localhost:8080/"
    },
    "id": "gDtK7knWQLU6",
    "outputId": "4e4c2c07-0fa6-4142-b4f7-ea8e8fd2df77"
   },
   "outputs": [
    {
     "name": "stdout",
     "output_type": "stream",
     "text": [
      "250/250 [==============================] - 28s 110ms/step\n",
      "test loss, test acc: [[1.3194626e-04 1.5714324e-09 5.6748140e-05 9.9981135e-01]\n",
      " [4.8829356e-01 4.2838639e-01 1.8409014e-02 6.4911075e-02]\n",
      " [3.0545199e-01 6.0331666e-01 3.1558335e-02 5.9673011e-02]\n",
      " ...\n",
      " [2.1362680e-01 2.8514899e-06 7.7525997e-01 1.1110435e-02]\n",
      " [1.1681118e-01 8.6033332e-01 2.5301883e-03 2.0325240e-02]\n",
      " [4.4783002e-01 5.5647217e-04 5.1316249e-01 3.8450986e-02]]\n",
      "<class 'numpy.ndarray'>\n"
     ]
    }
   ],
   "source": [
    "predict = model.predict(x_val)\n",
    "\n",
    "print(\"test loss, test acc:\", predict)\n",
    "print(type(predict))"
   ]
  },
  {
   "cell_type": "code",
   "execution_count": 13,
   "metadata": {
    "id": "vanPDY1UWYfo"
   },
   "outputs": [],
   "source": [
    "y_pred = np.argmax(predict,axis = 1)\n"
   ]
  },
  {
   "cell_type": "markdown",
   "metadata": {
    "id": "froxVENIXFou"
   },
   "source": [
    "# Confusion Matrix"
   ]
  },
  {
   "cell_type": "code",
   "execution_count": 14,
   "metadata": {
    "colab": {
     "base_uri": "https://localhost:8080/",
     "height": 559
    },
    "id": "XA6fh0TKW3MR",
    "outputId": "01d5aacc-a9f5-4b62-e21b-ce75a0980234"
   },
   "outputs": [
    {
     "name": "stdout",
     "output_type": "stream",
     "text": [
      "Confusion Matrix:\n",
      "[[1203  625  133   39]\n",
      " [ 326 1649    2   15]\n",
      " [  87   47 1416  476]\n",
      " [  60  235  450 1230]]\n"
     ]
    },
    {
     "data": {
      "image/png": "[encoded data removed]",
      "text/plain": [
       "<Figure size 432x288 with 2 Axes>"
      ]
     },
     "metadata": {
      "needs_background": "light"
     },
     "output_type": "display_data"
    }
   ],
   "source": [
    "import numpy as np\n",
    "import matplotlib.pyplot as plt\n",
    "from sklearn.metrics import confusion_matrix\n",
    "\n",
    "cm = confusion_matrix(y_val, y_pred)\n",
    "\n",
    "# Print confusion matrix\n",
    "print(\"Confusion Matrix:\")\n",
    "print(cm)\n",
    "\n",
    "# Plot confusion matrix\n",
    "plt.imshow(cm, interpolation='nearest', cmap=plt.cm.Blues)\n",
    "plt.colorbar()\n",
    "tick_marks = np.arange(len(np.unique(y_val)))\n",
    "plt.xticks(tick_marks, np.unique(y_val))\n",
    "plt.yticks(tick_marks, np.unique(y_val))\n",
    "plt.xlabel('Predicted')\n",
    "plt.ylabel('True')\n",
    "plt.title('Confusion Matrix')\n",
    "plt.show()\n"
   ]
  },
  {
   "cell_type": "markdown",
   "metadata": {
    "id": "sw11_qaYdfkV"
   },
   "source": [
    "# Graphs"
   ]
  },
  {
   "cell_type": "code",
   "execution_count": 15,
   "metadata": {
    "id": "ObjDc0H4MiDG",
    "outputId": "ab0ced88-75b6-4599-ecee-445f7dbc5655"
   },
   "outputs": [
    {
     "data": {
      "image/png": "[encoded data removed]",
      "text/plain": [
       "<Figure size 432x288 with 1 Axes>"
      ]
     },
     "metadata": {
      "needs_background": "light"
     },
     "output_type": "display_data"
    }
   ],
   "source": [
    "plt.plot(history.history['accuracy'])\n",
    "plt.plot(history.history['val_accuracy'])\n",
    "plt.title('model accuracy')\n",
    "plt.ylabel('accuracy')\n",
    "plt.xlabel('epoch')\n",
    "plt.legend(['train_acc', 'val_acc'], loc='upper left')\n",
    "plt.show()"
   ]
  },
  {
   "cell_type": "code",
   "execution_count": 16,
   "metadata": {},
   "outputs": [
    {
     "data": {
      "image/png": "[encoded data removed]",
      "text/plain": [
       "<Figure size 432x288 with 1 Axes>"
      ]
     },
     "metadata": {
      "needs_background": "light"
     },
     "output_type": "display_data"
    }
   ],
   "source": [
    "plt.plot(history.history['loss'])\n",
    "plt.plot(history.history['val_loss'])\n",
    "plt.title('model loss')\n",
    "plt.ylabel('loss')\n",
    "plt.xlabel('epoch')\n",
    "plt.legend(['train_loss', 'val_loss'], loc='upper left')\n",
    "plt.show()"
   ]
  },
  {
   "cell_type": "code",
   "execution_count": 17,
   "metadata": {},
   "outputs": [
    {
     "name": "stdout",
     "output_type": "stream",
     "text": [
      "[[36  1  2 14  1  6  2 21 10 15  8  1  3 19 10  4 12 20  0  0  0  0  0  0\n",
      "   0  0  0  0  0  0  0  0  0  0  0  0  0  0  0  0  0  0  0  0  0  0  0  0\n",
      "   0  0  0  0  0  0  0  0  0  0  0  0  0  0  0  0  0  0  0  0  0  0  0  0\n",
      "   0  0  0  0  0  0  0  0  0  0  0  0  0  0  0  0  0  0  0  0  0  0  0  0\n",
      "   0  0  0  0  0  0  0  0  0  0  0  0  0  0  0  0  0  0  0  0  0  0  0  0\n",
      "   0  0  0  0  0  0  0  0  0  0  0  0  0  0  0  0  0  0  0  0  0  0  0  0\n",
      "   0  0  0  0  0  0  0  0  0  0  0  0  0  0  0  0  0  0  0  0  0  0  0  0\n",
      "   0  0  0  0  0  0  0  0  0  0  0  0  0  0  0  0  0  0  0  0  0  0  0  0\n",
      "   0  0  0  0  0  0  0  0  0  0  0  0  0  0  0  0  0  0  0  0  0  0  0  0\n",
      "   0  0  0  0  0  0  0  0  0  0  0  0  0  0  0  0  0  0  0  0  0  0  0  0\n",
      "   0  0  0  0  0  0  0  0  0  0  0  0  0  0  0  0  0  0  0  0  0  0  0  0\n",
      "   0  0  0  0  0  0  0  0  0  0  0  0  0  0  0  0  0  0  0  0  0  0  0  0\n",
      "   0  0  0  0  0  0  0  0  0  0  0  0  0  0  0  0  0  0  0  0  0  0  0  0\n",
      "   0  0  0  0  0  0  0  0  0  0  0  0  0  0  0  0  0  0  0  0  0  0  0  0\n",
      "   0  0  0  0  0  0  0  0  0  0  0  0  0  0  0  0  0  0  0  0  0  0  0  0\n",
      "   0  0  0  0  0  0  0  0  0  0  0  0  0  0  0  0  0  0  0  0  0  0  0  0\n",
      "   0  0  0  0  0  0  0  0  0  0  0  0  0  0  0  0  0  0  0  0  0  0  0  0\n",
      "   0  0  0  0  0  0  0  0  0  0  0  0  0  0  0  0  0  0  0  0  0  0  0  0\n",
      "   0  0  0  0  0  0  0  0  0  0  0  0  0  0  0  0  0  0  0  0  0  0  0  0\n",
      "   0  0  0  0  0  0  0  0  0  0  0  0  0  0  0  0  0  0  0  0  0  0  0  0\n",
      "   0  0  0  0  0  0  0  0  0  0  0  0  0  0  0  0  0  0  0  0  0  0  0  0\n",
      "   0  0  0  0  0  0  0  0  0  0  0  0  0  0  0  0  0  0  0  0  0  0  0  0\n",
      "   0  0  0  0  0  0  0  0  0  0  0  0  0  0  0  0  0  0  0  0  0  0  0  0\n",
      "   0  0  0  0  0  0  0  0  0  0  0  0  0  0  0  0  0  0  0  0  0  0  0  0\n",
      "   0  0  0  0  0  0  0  0  0  0  0  0  0  0  0  0  0  0  0  0  0  0  0  0\n",
      "   0  0  0  0  0  0  0  0  0  0  0  0  0  0  0  0  0  0  0  0  0  0  0  0\n",
      "   0  0  0  0  0  0  0  0  0  0  0  0  0  0  0  0  0  0  0  0  0  0  0  0\n",
      "   0  0  0  0  0  0  0  0  0  0  0  0  0  0  0  0  0  0  0  0  0  0  0  0\n",
      "   0  0  0  0  0  0  0  0  0  0  0  0  0  0]]\n",
      "1/1 [==============================] - 0s 78ms/step\n",
      "test loss, test acc: [[0.7234188  0.2639213  0.00928722 0.00337268]]\n",
      "0\n"
     ]
    }
   ],
   "source": [
    "def predict(input_new):\n",
    "  input_new =  input_new\n",
    "  input_new = [char2int[i] for i in str(input_new)]\n",
    "  input_new = pad_sequences([input_new], maxlen=max_len,padding=\"post\",truncating=\"post\")[0]\n",
    "  input_new = np.array(input_new)\n",
    "  input_new = np.array([input_new])\n",
    "  print(input_new)\n",
    "  return model.predict(input_new)\n",
    "\n",
    "\n",
    "input_new = \"I am eating bricks\"\n",
    "\n",
    "pridiction = predict(input_new)\n",
    "print(\"test loss, test acc:\", pridiction)\n",
    "print(np.argmax(pridiction))\n",
    "\n"
   ]
  },
  {
   "cell_type": "code",
   "execution_count": null,
   "metadata": {},
   "outputs": [],
   "source": []
  }
 ],
 "metadata": {
  "accelerator": "GPU",
  "colab": {
   "gpuType": "T4",
   "provenance": []
  },
  "kernelspec": {
   "display_name": "Python 3 (ipykernel)",
   "language": "python",
   "name": "python3"
  },
  "language_info": {
   "codemirror_mode": {
    "name": "ipython",
    "version": 3
   },
   "file_extension": ".py",
   "mimetype": "text/x-python",
   "name": "python",
   "nbconvert_exporter": "python",
   "pygments_lexer": "ipython3",
   "version": "3.9.7"
  }
 },
 "nbformat": 4,
 "nbformat_minor": 1
}
