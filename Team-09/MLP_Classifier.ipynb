{
 "cells": [
  {
   "cell_type": "code",
   "execution_count": 1,
   "metadata": {},
   "outputs": [],
   "source": [
    "import pandas as pd\n",
    "import numpy as np\n",
    "from sklearn.feature_extraction.text import CountVectorizer\n",
    "from sklearn.neural_network import MLPClassifier\n",
    "from sklearn.model_selection import train_test_split\n",
    "\n",
    "\n",
    "df = pd.read_csv('sheet1.csv')\n",
    "\n",
    "\n",
    "X = df['INPUT'].values.astype('U')\n",
    "y = df['target_new'].values.astype('U')\n",
    "\n",
    "# print(X[:3])\n",
    "# print(y[:3])"
   ]
  },
  {
   "cell_type": "code",
   "execution_count": 2,
   "metadata": {},
   "outputs": [],
   "source": [
    "from sklearn.preprocessing import LabelEncoder\n",
    " \n",
    "# Creating a instance of label Encoder.\n",
    "le = LabelEncoder()\n",
    " \n",
    "# Using .fit_transform function to fit label\n",
    "# encoder and return encoded label\n",
    "label = le.fit_transform(df['Input_error'])\n",
    " \n",
    "# printing label\n",
    "# label"
   ]
  },
  {
   "cell_type": "code",
   "execution_count": 3,
   "metadata": {},
   "outputs": [
    {
     "data": {
      "text/html": [
       "<div>\n",
       "<style scoped>\n",
       "    .dataframe tbody tr th:only-of-type {\n",
       "        vertical-align: middle;\n",
       "    }\n",
       "\n",
       "    .dataframe tbody tr th {\n",
       "        vertical-align: top;\n",
       "    }\n",
       "\n",
       "    .dataframe thead th {\n",
       "        text-align: right;\n",
       "    }\n",
       "</style>\n",
       "<table border=\"1\" class=\"dataframe\">\n",
       "  <thead>\n",
       "    <tr style=\"text-align: right;\">\n",
       "      <th></th>\n",
       "      <th>Unnamed: 0</th>\n",
       "      <th>target_new</th>\n",
       "      <th>INPUT</th>\n",
       "      <th>BART</th>\n",
       "      <th>MARIANMT</th>\n",
       "      <th>BART_error</th>\n",
       "      <th>marianMT_error</th>\n",
       "      <th>Unnamed: 8</th>\n",
       "      <th>Unnamed: 9</th>\n",
       "      <th>Unnamed: 10</th>\n",
       "      <th>Unnamed: 11</th>\n",
       "      <th>Unnamed: 12</th>\n",
       "      <th>Unnamed: 13</th>\n",
       "      <th>Unnamed: 14</th>\n",
       "      <th>Unnamed: 15</th>\n",
       "      <th>Unnamed: 16</th>\n",
       "      <th>Unnamed: 17</th>\n",
       "      <th>Unnamed: 18</th>\n",
       "      <th>Unnamed: 19</th>\n",
       "      <th>Category</th>\n",
       "    </tr>\n",
       "  </thead>\n",
       "  <tbody>\n",
       "    <tr>\n",
       "      <th>0</th>\n",
       "      <td>0.0</td>\n",
       "      <td>Theatre</td>\n",
       "      <td>Theatre</td>\n",
       "      <td>Theatre</td>\n",
       "      <td>Theatre</td>\n",
       "      <td>Cat A</td>\n",
       "      <td>Cat A</td>\n",
       "      <td>NaN</td>\n",
       "      <td>NaN</td>\n",
       "      <td>NaN</td>\n",
       "      <td>NaN</td>\n",
       "      <td>NaN</td>\n",
       "      <td>NaN</td>\n",
       "      <td>NaN</td>\n",
       "      <td>NaN</td>\n",
       "      <td>NaN</td>\n",
       "      <td>NaN</td>\n",
       "      <td>NaN</td>\n",
       "      <td>NaN</td>\n",
       "      <td>0</td>\n",
       "    </tr>\n",
       "    <tr>\n",
       "      <th>1</th>\n",
       "      <td>1.0</td>\n",
       "      <td>Today, I'll go to the theatre with my boyfriend.</td>\n",
       "      <td>Today, I'll go to the theatre with my boyfriend.</td>\n",
       "      <td>Today, I'll go to the theatre with my boyfriend.</td>\n",
       "      <td>Today, I'll go to the theatre with my boyfriend.</td>\n",
       "      <td>Cat A</td>\n",
       "      <td>Cat A</td>\n",
       "      <td>NaN</td>\n",
       "      <td>NaN</td>\n",
       "      <td>NaN</td>\n",
       "      <td>NaN</td>\n",
       "      <td>NaN</td>\n",
       "      <td>NaN</td>\n",
       "      <td>NaN</td>\n",
       "      <td>NaN</td>\n",
       "      <td>NaN</td>\n",
       "      <td>NaN</td>\n",
       "      <td>NaN</td>\n",
       "      <td>NaN</td>\n",
       "      <td>0</td>\n",
       "    </tr>\n",
       "    <tr>\n",
       "      <th>2</th>\n",
       "      <td>2.0</td>\n",
       "      <td>I'm really looking forward to it.</td>\n",
       "      <td>I'm really looking forward to it.</td>\n",
       "      <td>I'm really looking forward to it.</td>\n",
       "      <td>I'm really looking forward to it.</td>\n",
       "      <td>Cat A</td>\n",
       "      <td>Cat A</td>\n",
       "      <td>NaN</td>\n",
       "      <td>NaN</td>\n",
       "      <td>NaN</td>\n",
       "      <td>NaN</td>\n",
       "      <td>NaN</td>\n",
       "      <td>NaN</td>\n",
       "      <td>NaN</td>\n",
       "      <td>NaN</td>\n",
       "      <td>NaN</td>\n",
       "      <td>NaN</td>\n",
       "      <td>NaN</td>\n",
       "      <td>NaN</td>\n",
       "      <td>0</td>\n",
       "    </tr>\n",
       "    <tr>\n",
       "      <th>3</th>\n",
       "      <td>3.0</td>\n",
       "      <td>I like Verdi.</td>\n",
       "      <td>I like Verdi.</td>\n",
       "      <td>I like Verdi.</td>\n",
       "      <td>I like Verdi.</td>\n",
       "      <td>Cat A</td>\n",
       "      <td>Cat A</td>\n",
       "      <td>NaN</td>\n",
       "      <td>NaN</td>\n",
       "      <td>NaN</td>\n",
       "      <td>NaN</td>\n",
       "      <td>NaN</td>\n",
       "      <td>NaN</td>\n",
       "      <td>NaN</td>\n",
       "      <td>NaN</td>\n",
       "      <td>NaN</td>\n",
       "      <td>NaN</td>\n",
       "      <td>NaN</td>\n",
       "      <td>NaN</td>\n",
       "      <td>0</td>\n",
       "    </tr>\n",
       "    <tr>\n",
       "      <th>4</th>\n",
       "      <td>4.0</td>\n",
       "      <td>So it's something special for me.</td>\n",
       "      <td>So it's something special for me.</td>\n",
       "      <td>So it's something special for me.</td>\n",
       "      <td>So it's something special for me.</td>\n",
       "      <td>Cat A</td>\n",
       "      <td>Cat A</td>\n",
       "      <td>NaN</td>\n",
       "      <td>NaN</td>\n",
       "      <td>NaN</td>\n",
       "      <td>NaN</td>\n",
       "      <td>NaN</td>\n",
       "      <td>NaN</td>\n",
       "      <td>NaN</td>\n",
       "      <td>NaN</td>\n",
       "      <td>NaN</td>\n",
       "      <td>NaN</td>\n",
       "      <td>NaN</td>\n",
       "      <td>NaN</td>\n",
       "      <td>0</td>\n",
       "    </tr>\n",
       "    <tr>\n",
       "      <th>...</th>\n",
       "      <td>...</td>\n",
       "      <td>...</td>\n",
       "      <td>...</td>\n",
       "      <td>...</td>\n",
       "      <td>...</td>\n",
       "      <td>...</td>\n",
       "      <td>...</td>\n",
       "      <td>...</td>\n",
       "      <td>...</td>\n",
       "      <td>...</td>\n",
       "      <td>...</td>\n",
       "      <td>...</td>\n",
       "      <td>...</td>\n",
       "      <td>...</td>\n",
       "      <td>...</td>\n",
       "      <td>...</td>\n",
       "      <td>...</td>\n",
       "      <td>...</td>\n",
       "      <td>...</td>\n",
       "      <td>...</td>\n",
       "    </tr>\n",
       "    <tr>\n",
       "      <th>25734</th>\n",
       "      <td>25734.0</td>\n",
       "      <td>Thus, it could be more fun and I could better ...</td>\n",
       "      <td>Therefore, It would be more fun and I could co...</td>\n",
       "      <td>Therefore, It would be more fun and I could co...</td>\n",
       "      <td>Therefore, It would be more fun and I could co...</td>\n",
       "      <td>Cat B</td>\n",
       "      <td>Cat B</td>\n",
       "      <td>NaN</td>\n",
       "      <td>NaN</td>\n",
       "      <td>NaN</td>\n",
       "      <td>NaN</td>\n",
       "      <td>NaN</td>\n",
       "      <td>NaN</td>\n",
       "      <td>NaN</td>\n",
       "      <td>NaN</td>\n",
       "      <td>NaN</td>\n",
       "      <td>NaN</td>\n",
       "      <td>NaN</td>\n",
       "      <td>NaN</td>\n",
       "      <td>1</td>\n",
       "    </tr>\n",
       "    <tr>\n",
       "      <th>25735</th>\n",
       "      <td>25735.0</td>\n",
       "      <td>Although I ca n't get a scholarship, because i...</td>\n",
       "      <td>Although I ca n't get a scholarship because it...</td>\n",
       "      <td>Although I can't get a scholarship because it ...</td>\n",
       "      <td>Although I can't get a scholarship because it ...</td>\n",
       "      <td>Cat B</td>\n",
       "      <td>Cat B</td>\n",
       "      <td>NaN</td>\n",
       "      <td>NaN</td>\n",
       "      <td>NaN</td>\n",
       "      <td>NaN</td>\n",
       "      <td>NaN</td>\n",
       "      <td>NaN</td>\n",
       "      <td>NaN</td>\n",
       "      <td>NaN</td>\n",
       "      <td>NaN</td>\n",
       "      <td>NaN</td>\n",
       "      <td>NaN</td>\n",
       "      <td>NaN</td>\n",
       "      <td>1</td>\n",
       "    </tr>\n",
       "    <tr>\n",
       "      <th>25736</th>\n",
       "      <td>25736.0</td>\n",
       "      <td>By the time I graduate from the university, I'...</td>\n",
       "      <td>By the time I will graduate from the universit...</td>\n",
       "      <td>By the time I will graduate from the universit...</td>\n",
       "      <td>By the time I will graduate from the universit...</td>\n",
       "      <td>Cat B</td>\n",
       "      <td>Cat B</td>\n",
       "      <td>NaN</td>\n",
       "      <td>NaN</td>\n",
       "      <td>NaN</td>\n",
       "      <td>NaN</td>\n",
       "      <td>NaN</td>\n",
       "      <td>NaN</td>\n",
       "      <td>NaN</td>\n",
       "      <td>NaN</td>\n",
       "      <td>NaN</td>\n",
       "      <td>NaN</td>\n",
       "      <td>NaN</td>\n",
       "      <td>NaN</td>\n",
       "      <td>1</td>\n",
       "    </tr>\n",
       "    <tr>\n",
       "      <th>25737</th>\n",
       "      <td>25737.0</td>\n",
       "      <td>: ) There is no one who does n't have their ow...</td>\n",
       "      <td>: ) There is no one who do n't have their own ...</td>\n",
       "      <td>: ) There is no one who doesn't have their own...</td>\n",
       "      <td>: ) There is no one who don't have their own a...</td>\n",
       "      <td>Cat B</td>\n",
       "      <td>Cat B</td>\n",
       "      <td>NaN</td>\n",
       "      <td>NaN</td>\n",
       "      <td>NaN</td>\n",
       "      <td>NaN</td>\n",
       "      <td>NaN</td>\n",
       "      <td>NaN</td>\n",
       "      <td>NaN</td>\n",
       "      <td>NaN</td>\n",
       "      <td>NaN</td>\n",
       "      <td>NaN</td>\n",
       "      <td>NaN</td>\n",
       "      <td>NaN</td>\n",
       "      <td>1</td>\n",
       "    </tr>\n",
       "    <tr>\n",
       "      <th>25738</th>\n",
       "      <td>25738.0</td>\n",
       "      <td>I hope you, who are in the same situation, do ...</td>\n",
       "      <td>I hope you who are in the same situation do wh...</td>\n",
       "      <td>I hope you who are in the same situation do wh...</td>\n",
       "      <td>I hope you who are in the same situation do wh...</td>\n",
       "      <td>Cat A</td>\n",
       "      <td>Cat A</td>\n",
       "      <td>NaN</td>\n",
       "      <td>NaN</td>\n",
       "      <td>NaN</td>\n",
       "      <td>NaN</td>\n",
       "      <td>NaN</td>\n",
       "      <td>NaN</td>\n",
       "      <td>NaN</td>\n",
       "      <td>NaN</td>\n",
       "      <td>NaN</td>\n",
       "      <td>NaN</td>\n",
       "      <td>NaN</td>\n",
       "      <td>NaN</td>\n",
       "      <td>0</td>\n",
       "    </tr>\n",
       "  </tbody>\n",
       "</table>\n",
       "<p>25739 rows × 20 columns</p>\n",
       "</div>"
      ],
      "text/plain": [
       "       Unnamed: 0                                         target_new  \\\n",
       "0             0.0                                            Theatre   \n",
       "1             1.0   Today, I'll go to the theatre with my boyfriend.   \n",
       "2             2.0                  I'm really looking forward to it.   \n",
       "3             3.0                                      I like Verdi.   \n",
       "4             4.0                  So it's something special for me.   \n",
       "...           ...                                                ...   \n",
       "25734     25734.0  Thus, it could be more fun and I could better ...   \n",
       "25735     25735.0  Although I ca n't get a scholarship, because i...   \n",
       "25736     25736.0  By the time I graduate from the university, I'...   \n",
       "25737     25737.0  : ) There is no one who does n't have their ow...   \n",
       "25738     25738.0  I hope you, who are in the same situation, do ...   \n",
       "\n",
       "                                                   INPUT  \\\n",
       "0                                                Theatre   \n",
       "1       Today, I'll go to the theatre with my boyfriend.   \n",
       "2                      I'm really looking forward to it.   \n",
       "3                                          I like Verdi.   \n",
       "4                      So it's something special for me.   \n",
       "...                                                  ...   \n",
       "25734  Therefore, It would be more fun and I could co...   \n",
       "25735  Although I ca n't get a scholarship because it...   \n",
       "25736  By the time I will graduate from the universit...   \n",
       "25737  : ) There is no one who do n't have their own ...   \n",
       "25738  I hope you who are in the same situation do wh...   \n",
       "\n",
       "                                                    BART  \\\n",
       "0                                                Theatre   \n",
       "1       Today, I'll go to the theatre with my boyfriend.   \n",
       "2                      I'm really looking forward to it.   \n",
       "3                                          I like Verdi.   \n",
       "4                      So it's something special for me.   \n",
       "...                                                  ...   \n",
       "25734  Therefore, It would be more fun and I could co...   \n",
       "25735  Although I can't get a scholarship because it ...   \n",
       "25736  By the time I will graduate from the universit...   \n",
       "25737  : ) There is no one who doesn't have their own...   \n",
       "25738  I hope you who are in the same situation do wh...   \n",
       "\n",
       "                                                MARIANMT BART_error  \\\n",
       "0                                                Theatre      Cat A   \n",
       "1       Today, I'll go to the theatre with my boyfriend.      Cat A   \n",
       "2                      I'm really looking forward to it.      Cat A   \n",
       "3                                          I like Verdi.      Cat A   \n",
       "4                      So it's something special for me.      Cat A   \n",
       "...                                                  ...        ...   \n",
       "25734  Therefore, It would be more fun and I could co...      Cat B   \n",
       "25735  Although I can't get a scholarship because it ...      Cat B   \n",
       "25736  By the time I will graduate from the universit...      Cat B   \n",
       "25737  : ) There is no one who don't have their own a...      Cat B   \n",
       "25738  I hope you who are in the same situation do wh...      Cat A   \n",
       "\n",
       "      marianMT_error  Unnamed: 8 Unnamed: 9 Unnamed: 10 Unnamed: 11  \\\n",
       "0              Cat A         NaN        NaN         NaN         NaN   \n",
       "1              Cat A         NaN        NaN         NaN         NaN   \n",
       "2              Cat A         NaN        NaN         NaN         NaN   \n",
       "3              Cat A         NaN        NaN         NaN         NaN   \n",
       "4              Cat A         NaN        NaN         NaN         NaN   \n",
       "...              ...         ...        ...         ...         ...   \n",
       "25734          Cat B         NaN        NaN         NaN         NaN   \n",
       "25735          Cat B         NaN        NaN         NaN         NaN   \n",
       "25736          Cat B         NaN        NaN         NaN         NaN   \n",
       "25737          Cat B         NaN        NaN         NaN         NaN   \n",
       "25738          Cat A         NaN        NaN         NaN         NaN   \n",
       "\n",
       "      Unnamed: 12 Unnamed: 13 Unnamed: 14  Unnamed: 15 Unnamed: 16  \\\n",
       "0             NaN         NaN         NaN          NaN         NaN   \n",
       "1             NaN         NaN         NaN          NaN         NaN   \n",
       "2             NaN         NaN         NaN          NaN         NaN   \n",
       "3             NaN         NaN         NaN          NaN         NaN   \n",
       "4             NaN         NaN         NaN          NaN         NaN   \n",
       "...           ...         ...         ...          ...         ...   \n",
       "25734         NaN         NaN         NaN          NaN         NaN   \n",
       "25735         NaN         NaN         NaN          NaN         NaN   \n",
       "25736         NaN         NaN         NaN          NaN         NaN   \n",
       "25737         NaN         NaN         NaN          NaN         NaN   \n",
       "25738         NaN         NaN         NaN          NaN         NaN   \n",
       "\n",
       "      Unnamed: 17 Unnamed: 18 Unnamed: 19  Category  \n",
       "0             NaN         NaN         NaN         0  \n",
       "1             NaN         NaN         NaN         0  \n",
       "2             NaN         NaN         NaN         0  \n",
       "3             NaN         NaN         NaN         0  \n",
       "4             NaN         NaN         NaN         0  \n",
       "...           ...         ...         ...       ...  \n",
       "25734         NaN         NaN         NaN         1  \n",
       "25735         NaN         NaN         NaN         1  \n",
       "25736         NaN         NaN         NaN         1  \n",
       "25737         NaN         NaN         NaN         1  \n",
       "25738         NaN         NaN         NaN         0  \n",
       "\n",
       "[25739 rows x 20 columns]"
      ]
     },
     "execution_count": 3,
     "metadata": {},
     "output_type": "execute_result"
    }
   ],
   "source": [
    "df.drop(\"Input_error\", axis=1, inplace=True)\n",
    " \n",
    "# Appending the array to our dataFrame\n",
    "# with column name 'Purchased'\n",
    "df[\"Category\"] = label\n",
    " \n",
    "# printing Dataframe\n",
    "df"
   ]
  },
  {
   "cell_type": "code",
   "execution_count": 4,
   "metadata": {},
   "outputs": [
    {
     "name": "stderr",
     "output_type": "stream",
     "text": [
      "[nltk_data] Downloading package stopwords to\n",
      "[nltk_data]     C:\\Users\\nikit\\AppData\\Roaming\\nltk_data...\n",
      "[nltk_data]   Package stopwords is already up-to-date!\n"
     ]
    },
    {
     "ename": "TypeError",
     "evalue": "expected string or bytes-like object",
     "output_type": "error",
     "traceback": [
      "\u001b[1;31m---------------------------------------------------------------------------\u001b[0m",
      "\u001b[1;31mTypeError\u001b[0m                                 Traceback (most recent call last)",
      "\u001b[1;32m~\\AppData\\Local\\Temp/ipykernel_25312/3010724111.py\u001b[0m in \u001b[0;36m<module>\u001b[1;34m\u001b[0m\n\u001b[0;32m     10\u001b[0m \u001b[0mdata_without_stopwords2\u001b[0m \u001b[1;33m=\u001b[0m \u001b[1;33m[\u001b[0m\u001b[1;33m]\u001b[0m\u001b[1;33m\u001b[0m\u001b[1;33m\u001b[0m\u001b[0m\n\u001b[0;32m     11\u001b[0m \u001b[1;32mfor\u001b[0m \u001b[0mi\u001b[0m \u001b[1;32min\u001b[0m \u001b[0mrange\u001b[0m\u001b[1;33m(\u001b[0m\u001b[1;36m0\u001b[0m\u001b[1;33m,\u001b[0m \u001b[0mlen\u001b[0m\u001b[1;33m(\u001b[0m\u001b[0mdf\u001b[0m\u001b[1;33m.\u001b[0m\u001b[0mtarget_new\u001b[0m\u001b[1;33m)\u001b[0m\u001b[1;33m)\u001b[0m\u001b[1;33m:\u001b[0m\u001b[1;33m\u001b[0m\u001b[1;33m\u001b[0m\u001b[0m\n\u001b[1;32m---> 12\u001b[1;33m     \u001b[0mdoc\u001b[0m \u001b[1;33m=\u001b[0m \u001b[0mre\u001b[0m\u001b[1;33m.\u001b[0m\u001b[0msub\u001b[0m\u001b[1;33m(\u001b[0m\u001b[1;34m'[^a-zA-Z]'\u001b[0m\u001b[1;33m,\u001b[0m \u001b[1;34m' '\u001b[0m\u001b[1;33m,\u001b[0m \u001b[0mdf\u001b[0m\u001b[1;33m.\u001b[0m\u001b[0mtarget_new\u001b[0m\u001b[1;33m[\u001b[0m\u001b[0mi\u001b[0m\u001b[1;33m]\u001b[0m\u001b[1;33m)\u001b[0m\u001b[1;33m\u001b[0m\u001b[1;33m\u001b[0m\u001b[0m\n\u001b[0m\u001b[0;32m     13\u001b[0m     \u001b[0mdoc1\u001b[0m \u001b[1;33m=\u001b[0m \u001b[0mre\u001b[0m\u001b[1;33m.\u001b[0m\u001b[0msub\u001b[0m\u001b[1;33m(\u001b[0m\u001b[1;34m'[^a-zA-Z]'\u001b[0m\u001b[1;33m,\u001b[0m \u001b[1;34m' '\u001b[0m\u001b[1;33m,\u001b[0m \u001b[0mdf\u001b[0m\u001b[1;33m.\u001b[0m\u001b[0mINPUT\u001b[0m\u001b[1;33m[\u001b[0m\u001b[0mi\u001b[0m\u001b[1;33m]\u001b[0m\u001b[1;33m)\u001b[0m\u001b[1;33m\u001b[0m\u001b[1;33m\u001b[0m\u001b[0m\n\u001b[0;32m     14\u001b[0m     \u001b[0mdoc\u001b[0m \u001b[1;33m=\u001b[0m \u001b[0mdoc\u001b[0m\u001b[1;33m.\u001b[0m\u001b[0mlower\u001b[0m\u001b[1;33m(\u001b[0m\u001b[1;33m)\u001b[0m\u001b[1;33m\u001b[0m\u001b[1;33m\u001b[0m\u001b[0m\n",
      "\u001b[1;32mN:\\anaconda3\\lib\\re.py\u001b[0m in \u001b[0;36msub\u001b[1;34m(pattern, repl, string, count, flags)\u001b[0m\n\u001b[0;32m    208\u001b[0m     \u001b[0ma\u001b[0m \u001b[0mcallable\u001b[0m\u001b[1;33m,\u001b[0m \u001b[0mit\u001b[0m\u001b[0;31m'\u001b[0m\u001b[0ms\u001b[0m \u001b[0mpassed\u001b[0m \u001b[0mthe\u001b[0m \u001b[0mMatch\u001b[0m \u001b[0mobject\u001b[0m \u001b[1;32mand\u001b[0m \u001b[0mmust\u001b[0m \u001b[1;32mreturn\u001b[0m\u001b[1;33m\u001b[0m\u001b[1;33m\u001b[0m\u001b[0m\n\u001b[0;32m    209\u001b[0m     a replacement string to be used.\"\"\"\n\u001b[1;32m--> 210\u001b[1;33m     \u001b[1;32mreturn\u001b[0m \u001b[0m_compile\u001b[0m\u001b[1;33m(\u001b[0m\u001b[0mpattern\u001b[0m\u001b[1;33m,\u001b[0m \u001b[0mflags\u001b[0m\u001b[1;33m)\u001b[0m\u001b[1;33m.\u001b[0m\u001b[0msub\u001b[0m\u001b[1;33m(\u001b[0m\u001b[0mrepl\u001b[0m\u001b[1;33m,\u001b[0m \u001b[0mstring\u001b[0m\u001b[1;33m,\u001b[0m \u001b[0mcount\u001b[0m\u001b[1;33m)\u001b[0m\u001b[1;33m\u001b[0m\u001b[1;33m\u001b[0m\u001b[0m\n\u001b[0m\u001b[0;32m    211\u001b[0m \u001b[1;33m\u001b[0m\u001b[0m\n\u001b[0;32m    212\u001b[0m \u001b[1;32mdef\u001b[0m \u001b[0msubn\u001b[0m\u001b[1;33m(\u001b[0m\u001b[0mpattern\u001b[0m\u001b[1;33m,\u001b[0m \u001b[0mrepl\u001b[0m\u001b[1;33m,\u001b[0m \u001b[0mstring\u001b[0m\u001b[1;33m,\u001b[0m \u001b[0mcount\u001b[0m\u001b[1;33m=\u001b[0m\u001b[1;36m0\u001b[0m\u001b[1;33m,\u001b[0m \u001b[0mflags\u001b[0m\u001b[1;33m=\u001b[0m\u001b[1;36m0\u001b[0m\u001b[1;33m)\u001b[0m\u001b[1;33m:\u001b[0m\u001b[1;33m\u001b[0m\u001b[1;33m\u001b[0m\u001b[0m\n",
      "\u001b[1;31mTypeError\u001b[0m: expected string or bytes-like object"
     ]
    }
   ],
   "source": [
    "import re\n",
    "import nltk\n",
    "from nltk.stem import WordNetLemmatizer\n",
    "\n",
    "# Stopword removal, converting uppercase into lower case, and lemmatization\n",
    "stopwords = nltk.corpus.stopwords.words('english')\n",
    "lemmatizer = WordNetLemmatizer()\n",
    "nltk.download('stopwords')\n",
    "data_without_stopwords1 = []\n",
    "data_without_stopwords2 = []\n",
    "for i in range(0, len(df.target_new)):\n",
    "    doc = re.sub('[^a-zA-Z]', ' ', df.target_new[i])\n",
    "    doc1 = re.sub('[^a-zA-Z]', ' ', df.INPUT[i])\n",
    "    doc = doc.lower()\n",
    "    doc = doc.split()\n",
    "    doc1 = doc1.lower()\n",
    "    doc1 = doc1.split()\n",
    "    doc = [lemmatizer.lemmatize(word) for word in doc if not word in set(stopwords)]\n",
    "    doc1 = [lemmatizer.lemmatize(word) for word in doc1 if not word in set(stopwords)]\n",
    "    doc1 = ' '.join(doc1)\n",
    "    doc = ' '.join(doc)\n",
    "    data_without_stopwords1.append(doc)\n",
    "    data_without_stopwords2.append(doc1)"
   ]
  },
  {
   "cell_type": "code",
   "execution_count": 25,
   "metadata": {},
   "outputs": [],
   "source": [
    "# data_without_stopwords1"
   ]
  },
  {
   "cell_type": "code",
   "execution_count": null,
   "metadata": {},
   "outputs": [],
   "source": [
    "df[\"data_without_stopwords1\"] = data_without_stopwords1\n",
    "df[\"data_without_stopwords2\"] = data_without_stopwords2"
   ]
  },
  {
   "cell_type": "code",
   "execution_count": 27,
   "metadata": {},
   "outputs": [],
   "source": [
    "df.drop(['target_new','INPUT'], axis = 1, inplace = True)"
   ]
  },
  {
   "cell_type": "code",
   "execution_count": 28,
   "metadata": {},
   "outputs": [],
   "source": [
    "# print(data.col2[397])"
   ]
  },
  {
   "cell_type": "code",
   "execution_count": 29,
   "metadata": {},
   "outputs": [],
   "source": [
    "# print(data_without_stopwords2[397])"
   ]
  },
  {
   "cell_type": "code",
   "execution_count": 30,
   "metadata": {},
   "outputs": [],
   "source": [
    "# import re\n",
    "# pattern = r'[a-zA-Z]'\n",
    "# re.sub(\"ABCD123\", pattern)"
   ]
  },
  {
   "cell_type": "code",
   "execution_count": 31,
   "metadata": {},
   "outputs": [],
   "source": [
    "from sklearn.feature_extraction.text import TfidfVectorizer\n",
    "tfidf_vectorizer = TfidfVectorizer() \n",
    "# vectors = vectorizer.fit_transform(data_without_stopwords)\n",
    "df[\"Merged\"] = df[[\"data_without_stopwords1\", \"data_without_stopwords2\"]].apply(lambda x: \"-\".join(x), axis =1)"
   ]
  },
  {
   "cell_type": "code",
   "execution_count": 32,
   "metadata": {},
   "outputs": [],
   "source": [
    "df.drop([\"data_without_stopwords1\", \"data_without_stopwords2\"], axis = 1, inplace = True)"
   ]
  },
  {
   "cell_type": "code",
   "execution_count": 33,
   "metadata": {},
   "outputs": [
    {
     "data": {
      "text/plain": [
       "<1070x2192 sparse matrix of type '<class 'numpy.float64'>'\n",
       "\twith 4661 stored elements in Compressed Sparse Row format>"
      ]
     },
     "execution_count": 33,
     "metadata": {},
     "output_type": "execute_result"
    }
   ],
   "source": [
    "tfidf_vectorizer.fit_transform(df[\"Merged\"])"
   ]
  },
  {
   "cell_type": "code",
   "execution_count": 34,
   "metadata": {},
   "outputs": [
    {
     "data": {
      "text/html": [
       "<div>\n",
       "<style scoped>\n",
       "    .dataframe tbody tr th:only-of-type {\n",
       "        vertical-align: middle;\n",
       "    }\n",
       "\n",
       "    .dataframe tbody tr th {\n",
       "        vertical-align: top;\n",
       "    }\n",
       "\n",
       "    .dataframe thead th {\n",
       "        text-align: right;\n",
       "    }\n",
       "</style>\n",
       "<table border=\"1\" class=\"dataframe\">\n",
       "  <thead>\n",
       "    <tr style=\"text-align: right;\">\n",
       "      <th></th>\n",
       "      <th>row_word_count</th>\n",
       "      <th>Category</th>\n",
       "      <th>Merged</th>\n",
       "    </tr>\n",
       "  </thead>\n",
       "  <tbody>\n",
       "    <tr>\n",
       "      <th>0</th>\n",
       "      <td>1</td>\n",
       "      <td>0</td>\n",
       "      <td>theatre-theatre</td>\n",
       "    </tr>\n",
       "    <tr>\n",
       "      <th>1</th>\n",
       "      <td>9</td>\n",
       "      <td>0</td>\n",
       "      <td>today go theatre boyfriend-today go theatre bo...</td>\n",
       "    </tr>\n",
       "    <tr>\n",
       "      <th>2</th>\n",
       "      <td>6</td>\n",
       "      <td>0</td>\n",
       "      <td>really looking forward-really looking forward</td>\n",
       "    </tr>\n",
       "    <tr>\n",
       "      <th>3</th>\n",
       "      <td>3</td>\n",
       "      <td>0</td>\n",
       "      <td>like verdi-like verdi</td>\n",
       "    </tr>\n",
       "    <tr>\n",
       "      <th>4</th>\n",
       "      <td>6</td>\n",
       "      <td>0</td>\n",
       "      <td>something special-something special</td>\n",
       "    </tr>\n",
       "    <tr>\n",
       "      <th>...</th>\n",
       "      <td>...</td>\n",
       "      <td>...</td>\n",
       "      <td>...</td>\n",
       "    </tr>\n",
       "    <tr>\n",
       "      <th>1065</th>\n",
       "      <td>5</td>\n",
       "      <td>1</td>\n",
       "      <td>often travel abroad alone-often travel aboroad...</td>\n",
       "    </tr>\n",
       "    <tr>\n",
       "      <th>1066</th>\n",
       "      <td>9</td>\n",
       "      <td>1</td>\n",
       "      <td>try buy airplane ticket-try buy airplane tickts</td>\n",
       "    </tr>\n",
       "    <tr>\n",
       "      <th>1067</th>\n",
       "      <td>9</td>\n",
       "      <td>1</td>\n",
       "      <td>afraid ca n find something good-afraid ca n fi...</td>\n",
       "    </tr>\n",
       "    <tr>\n",
       "      <th>1068</th>\n",
       "      <td>10</td>\n",
       "      <td>1</td>\n",
       "      <td>watched film warnang sorus day ago-watched fil...</td>\n",
       "    </tr>\n",
       "    <tr>\n",
       "      <th>1069</th>\n",
       "      <td>22</td>\n",
       "      <td>1</td>\n",
       "      <td>warnang mean cowbell english know word film so...</td>\n",
       "    </tr>\n",
       "  </tbody>\n",
       "</table>\n",
       "<p>1070 rows × 3 columns</p>\n",
       "</div>"
      ],
      "text/plain": [
       "      row_word_count  Category  \\\n",
       "0                  1         0   \n",
       "1                  9         0   \n",
       "2                  6         0   \n",
       "3                  3         0   \n",
       "4                  6         0   \n",
       "...              ...       ...   \n",
       "1065               5         1   \n",
       "1066               9         1   \n",
       "1067               9         1   \n",
       "1068              10         1   \n",
       "1069              22         1   \n",
       "\n",
       "                                                 Merged  \n",
       "0                                       theatre-theatre  \n",
       "1     today go theatre boyfriend-today go theatre bo...  \n",
       "2         really looking forward-really looking forward  \n",
       "3                                 like verdi-like verdi  \n",
       "4                   something special-something special  \n",
       "...                                                 ...  \n",
       "1065  often travel abroad alone-often travel aboroad...  \n",
       "1066    try buy airplane ticket-try buy airplane tickts  \n",
       "1067  afraid ca n find something good-afraid ca n fi...  \n",
       "1068  watched film warnang sorus day ago-watched fil...  \n",
       "1069  warnang mean cowbell english know word film so...  \n",
       "\n",
       "[1070 rows x 3 columns]"
      ]
     },
     "execution_count": 34,
     "metadata": {},
     "output_type": "execute_result"
    }
   ],
   "source": [
    "df"
   ]
  },
  {
   "cell_type": "code",
   "execution_count": 35,
   "metadata": {},
   "outputs": [],
   "source": [
    "X_train, X_test, y_train, y_test = train_test_split(\n",
    "    df['Merged'], df['Category'], test_size=0.25, random_state=42)\n",
    "\n",
    "\n",
    "# vectorizer = CountVectorizer(\n",
    "#     analyzer='char', ngram_range=(1, 3), max_features=10000)\n",
    "# X_train = vectorizer.fit_transform(X_train)\n",
    "# X_test = vectorizer.transform(X_test)\n"
   ]
  },
  {
   "cell_type": "code",
   "execution_count": 36,
   "metadata": {},
   "outputs": [],
   "source": [
    "x_train_vec = tfidf_vectorizer.fit_transform(X_train)"
   ]
  },
  {
   "cell_type": "code",
   "execution_count": 37,
   "metadata": {
    "scrolled": true
   },
   "outputs": [
    {
     "data": {
      "text/html": [
       "<style>#sk-container-id-2 {color: black;background-color: white;}#sk-container-id-2 pre{padding: 0;}#sk-container-id-2 div.sk-toggleable {background-color: white;}#sk-container-id-2 label.sk-toggleable__label {cursor: pointer;display: block;width: 100%;margin-bottom: 0;padding: 0.3em;box-sizing: border-box;text-align: center;}#sk-container-id-2 label.sk-toggleable__label-arrow:before {content: \"▸\";float: left;margin-right: 0.25em;color: #696969;}#sk-container-id-2 label.sk-toggleable__label-arrow:hover:before {color: black;}#sk-container-id-2 div.sk-estimator:hover label.sk-toggleable__label-arrow:before {color: black;}#sk-container-id-2 div.sk-toggleable__content {max-height: 0;max-width: 0;overflow: hidden;text-align: left;background-color: #f0f8ff;}#sk-container-id-2 div.sk-toggleable__content pre {margin: 0.2em;color: black;border-radius: 0.25em;background-color: #f0f8ff;}#sk-container-id-2 input.sk-toggleable__control:checked~div.sk-toggleable__content {max-height: 200px;max-width: 100%;overflow: auto;}#sk-container-id-2 input.sk-toggleable__control:checked~label.sk-toggleable__label-arrow:before {content: \"▾\";}#sk-container-id-2 div.sk-estimator input.sk-toggleable__control:checked~label.sk-toggleable__label {background-color: #d4ebff;}#sk-container-id-2 div.sk-label input.sk-toggleable__control:checked~label.sk-toggleable__label {background-color: #d4ebff;}#sk-container-id-2 input.sk-hidden--visually {border: 0;clip: rect(1px 1px 1px 1px);clip: rect(1px, 1px, 1px, 1px);height: 1px;margin: -1px;overflow: hidden;padding: 0;position: absolute;width: 1px;}#sk-container-id-2 div.sk-estimator {font-family: monospace;background-color: #f0f8ff;border: 1px dotted black;border-radius: 0.25em;box-sizing: border-box;margin-bottom: 0.5em;}#sk-container-id-2 div.sk-estimator:hover {background-color: #d4ebff;}#sk-container-id-2 div.sk-parallel-item::after {content: \"\";width: 100%;border-bottom: 1px solid gray;flex-grow: 1;}#sk-container-id-2 div.sk-label:hover label.sk-toggleable__label {background-color: #d4ebff;}#sk-container-id-2 div.sk-serial::before {content: \"\";position: absolute;border-left: 1px solid gray;box-sizing: border-box;top: 0;bottom: 0;left: 50%;z-index: 0;}#sk-container-id-2 div.sk-serial {display: flex;flex-direction: column;align-items: center;background-color: white;padding-right: 0.2em;padding-left: 0.2em;position: relative;}#sk-container-id-2 div.sk-item {position: relative;z-index: 1;}#sk-container-id-2 div.sk-parallel {display: flex;align-items: stretch;justify-content: center;background-color: white;position: relative;}#sk-container-id-2 div.sk-item::before, #sk-container-id-2 div.sk-parallel-item::before {content: \"\";position: absolute;border-left: 1px solid gray;box-sizing: border-box;top: 0;bottom: 0;left: 50%;z-index: -1;}#sk-container-id-2 div.sk-parallel-item {display: flex;flex-direction: column;z-index: 1;position: relative;background-color: white;}#sk-container-id-2 div.sk-parallel-item:first-child::after {align-self: flex-end;width: 50%;}#sk-container-id-2 div.sk-parallel-item:last-child::after {align-self: flex-start;width: 50%;}#sk-container-id-2 div.sk-parallel-item:only-child::after {width: 0;}#sk-container-id-2 div.sk-dashed-wrapped {border: 1px dashed gray;margin: 0 0.4em 0.5em 0.4em;box-sizing: border-box;padding-bottom: 0.4em;background-color: white;}#sk-container-id-2 div.sk-label label {font-family: monospace;font-weight: bold;display: inline-block;line-height: 1.2em;}#sk-container-id-2 div.sk-label-container {text-align: center;}#sk-container-id-2 div.sk-container {/* jupyter's `normalize.less` sets `[hidden] { display: none; }` but bootstrap.min.css set `[hidden] { display: none !important; }` so we also need the `!important` here to be able to override the default hidden behavior on the sphinx rendered scikit-learn.org. See: https://github.com/scikit-learn/scikit-learn/issues/21755 */display: inline-block !important;position: relative;}#sk-container-id-2 div.sk-text-repr-fallback {display: none;}</style><div id=\"sk-container-id-2\" class=\"sk-top-container\"><div class=\"sk-text-repr-fallback\"><pre>MLPClassifier(alpha=0.01, batch_size=128, early_stopping=True,\n",
       "              hidden_layer_sizes=(300,), learning_rate=&#x27;adaptive&#x27;, max_iter=500,\n",
       "              validation_fraction=0.2)</pre><b>In a Jupyter environment, please rerun this cell to show the HTML representation or trust the notebook. <br />On GitHub, the HTML representation is unable to render, please try loading this page with nbviewer.org.</b></div><div class=\"sk-container\" hidden><div class=\"sk-item\"><div class=\"sk-estimator sk-toggleable\"><input class=\"sk-toggleable__control sk-hidden--visually\" id=\"sk-estimator-id-2\" type=\"checkbox\" checked><label for=\"sk-estimator-id-2\" class=\"sk-toggleable__label sk-toggleable__label-arrow\">MLPClassifier</label><div class=\"sk-toggleable__content\"><pre>MLPClassifier(alpha=0.01, batch_size=128, early_stopping=True,\n",
       "              hidden_layer_sizes=(300,), learning_rate=&#x27;adaptive&#x27;, max_iter=500,\n",
       "              validation_fraction=0.2)</pre></div></div></div></div></div>"
      ],
      "text/plain": [
       "MLPClassifier(alpha=0.01, batch_size=128, early_stopping=True,\n",
       "              hidden_layer_sizes=(300,), learning_rate='adaptive', max_iter=500,\n",
       "              validation_fraction=0.2)"
      ]
     },
     "execution_count": 37,
     "metadata": {},
     "output_type": "execute_result"
    }
   ],
   "source": [
    "clf = MLPClassifier(alpha=0.01,\n",
    "                      batch_size=128,\n",
    "                      epsilon=1e-08,\n",
    "                      hidden_layer_sizes=(300,),\n",
    "                      learning_rate='adaptive',\n",
    "                      max_iter=500,\n",
    "                      early_stopping=True,\n",
    "                      validation_fraction=0.2,\n",
    "                      solver = 'adam',\n",
    "                      activation = 'relu')\n",
    "\n",
    "clf.fit(x_train_vec, y_train)\n",
    "\n",
    "\n"
   ]
  },
  {
   "cell_type": "code",
   "execution_count": 38,
   "metadata": {},
   "outputs": [
    {
     "data": {
      "text/plain": [
       "644    believe great time improve international exper...\n",
       "629    heard strong cough felt lazy long time-heard s...\n",
       "70     went see friend hospital-went see friend hospital\n",
       "962    really want wife japanese cartoon worshiper-re...\n",
       "787    breakfast went library studying-breakfirst wen...\n",
       "                             ...                        \n",
       "557    stage crowd light disappeared flash-stage crow...\n",
       "110                          oh take money-oh take money\n",
       "428                want study english-want study english\n",
       "852                           moist summer-moisty summer\n",
       "605    yesterday went see doctor traditional chinese ...\n",
       "Name: Merged, Length: 268, dtype: object"
      ]
     },
     "execution_count": 38,
     "metadata": {},
     "output_type": "execute_result"
    }
   ],
   "source": [
    "X_test"
   ]
  },
  {
   "cell_type": "code",
   "execution_count": 39,
   "metadata": {},
   "outputs": [],
   "source": [
    "x_test_vec = tfidf_vectorizer.transform(X_test)\n",
    "y_pred = clf.predict(x_test_vec)  \n",
    "y_pred_store = clf.predict(x_train_vec)"
   ]
  },
  {
   "cell_type": "code",
   "execution_count": 40,
   "metadata": {},
   "outputs": [
    {
     "name": "stdout",
     "output_type": "stream",
     "text": [
      "0.5783582089552238\n"
     ]
    }
   ],
   "source": [
    "from sklearn import metrics\n",
    "accuracy = metrics.accuracy_score(y_pred, y_test)\n",
    "print(accuracy)"
   ]
  },
  {
   "cell_type": "code",
   "execution_count": 41,
   "metadata": {},
   "outputs": [
    {
     "name": "stdout",
     "output_type": "stream",
     "text": [
      "0.9002493765586035\n"
     ]
    }
   ],
   "source": [
    "new_accuracy = metrics.accuracy_score(y_pred_store, y_train)\n",
    "print(new_accuracy)"
   ]
  },
  {
   "cell_type": "code",
   "execution_count": 42,
   "metadata": {
    "scrolled": true
   },
   "outputs": [
    {
     "data": {
      "text/plain": [
       "Text(0, 0.5, 'Loss')"
      ]
     },
     "execution_count": 42,
     "metadata": {},
     "output_type": "execute_result"
    },
    {
     "data": {
      "image/png": "[encoded data removed]",
      "text/plain": [
       "<Figure size 432x288 with 1 Axes>"
      ]
     },
     "metadata": {
      "needs_background": "light"
     },
     "output_type": "display_data"
    }
   ],
   "source": [
    "import matplotlib.pyplot as plt\n",
    "plt.plot(clf.loss_curve_)\n",
    "plt.plot(clf.validation_scores_)\n",
    "plt.legend(['Training Loss','Validation Loss'])\n",
    "plt.xlabel('Epoch')\n",
    "plt.ylabel('Loss')"
   ]
  },
  {
   "cell_type": "code",
   "execution_count": 43,
   "metadata": {},
   "outputs": [
    {
     "data": {
      "text/plain": [
       "<sklearn.metrics._plot.confusion_matrix.ConfusionMatrixDisplay at 0x1c7eb620a90>"
      ]
     },
     "execution_count": 43,
     "metadata": {},
     "output_type": "execute_result"
    },
    {
     "data": {
      "image/png": "[encoded data removed]",
      "text/plain": [
       "<Figure size 432x288 with 2 Axes>"
      ]
     },
     "metadata": {
      "needs_background": "light"
     },
     "output_type": "display_data"
    }
   ],
   "source": [
    "confusion_matrix = metrics.confusion_matrix(y_test, y_pred)\n",
    "cm_display = metrics.ConfusionMatrixDisplay(confusion_matrix = confusion_matrix, display_labels = [False, True])\n",
    "cm_display.plot()"
   ]
  },
  {
   "cell_type": "code",
   "execution_count": 47,
   "metadata": {},
   "outputs": [],
   "source": [
    "test_accuracy = metrics.accuracy_score(y_test, y_pred)*100\n",
    "precision = metrics.precision_score(y_test, y_pred, average='weighted')\n",
    "recall = metrics.recall_score(y_test, y_pred, average='weighted')\n",
    "f1score = metrics.f1_score(y_test, y_pred,average='weighted')"
   ]
  },
  {
   "cell_type": "code",
   "execution_count": 48,
   "metadata": {},
   "outputs": [
    {
     "name": "stdout",
     "output_type": "stream",
     "text": [
      "57.83582089552238\n",
      "0.5786462975283382\n",
      "0.5783582089552238\n",
      "0.5784942319749872\n"
     ]
    }
   ],
   "source": [
    "print(test_accuracy)\n",
    "print(precision)\n",
    "print(recall)\n",
    "print(f1score)"
   ]
  },
  {
   "cell_type": "code",
   "execution_count": null,
   "metadata": {},
   "outputs": [],
   "source": []
  }
 ],
 "metadata": {
  "kernelspec": {
   "display_name": "Python 3 (ipykernel)",
   "language": "python",
   "name": "python3"
  },
  "language_info": {
   "codemirror_mode": {
    "name": "ipython",
    "version": 3
   },
   "file_extension": ".py",
   "mimetype": "text/x-python",
   "name": "python",
   "nbconvert_exporter": "python",
   "pygments_lexer": "ipython3",
   "version": "3.9.7"
  }
 },
 "nbformat": 4,
 "nbformat_minor": 2
}
