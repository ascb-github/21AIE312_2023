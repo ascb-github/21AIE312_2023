{
 "cells": [
  {
   "cell_type": "code",
   "execution_count": 22,
   "id": "f519aa66",
   "metadata": {},
   "outputs": [
    {
     "name": "stdout",
     "output_type": "stream",
     "text": [
      "II \n",
      " TILE OPEN GAP IDENTIFICATION AND FILLING \n",
      "SYSTEM  \n",
      "A PROJECT REPORT  \n",
      "Submitted by  \n",
      "          BL.EN.U4AIE200 10                 B. V. Nikith  \n",
      "          BL.EN.U4AIE200 20                 Jammula Sathvik  \n",
      "          BL.EN.U4AIE2003 0                 K. Gurunadh  \n",
      "          BL.EN.U4AIE20040                  N. Krishna Sai Keerthan  \n",
      "          BL.EN.U4AIE200 50                 P. Varshith  \n",
      "          BL.EN.U4AIE200 60                 Shaik Reeha  \n",
      "          BL.EN.U4AIE20070                 V. Satwik    \n",
      "21AIE31 2 – Deep Learning For Signal and Image \n",
      "Processing  \n",
      "B.Tech. in Computer Science and Engineering (Artificial \n",
      "Intelligence)  \n",
      " \n",
      "AMRITA SCHOOL OF ENGINEERING, BANGALORE  \n",
      " AMRITA VISHWA VIDYAPEETHAM  \n",
      "BANGALORE 560 035  \n",
      "April - 2023  \n",
      "   \n",
      "Page | 1  \n",
      "Dept. of CSE, ASE, Bangalore  TABLE OF CONTENTS  (Need to be modified)  \n",
      "S.NO  TOPIC  PAGE NO.  \n",
      "1 INTRODUCTION  2 \n",
      "2 PROBLEM STATEMENT & BACKGROUND  3 \n",
      "3 REQUIREMENTS  4 \n",
      "4 TECHNOLOGY & METHODOLOGY  6 \n",
      "5 ARCHITECTURE  6 \n",
      "6 PROJECT PLAN  8 \n",
      "7 COST ESTIMATION  10 \n",
      "8 CONCLUSION  13 \n",
      " \n",
      " \n",
      " \n",
      " Page | 2  \n",
      "Dept. of CSE, ASE, Bangalore  INTRODUCTION  \n",
      " \n",
      "The Tile Open Gap Identification and Filter  System is an innovative system \n",
      "that uses advanced algorithms for image processing to identify and filter  out tiles \n",
      "with open gaps in real -time during the manufacturing process. This system is \n",
      "crucial in the construction industry, as open gaps between tile s can lead to \n",
      "significant problems such as water seepage, durability issues, and safety risks. \n",
      "The system's advantages include enhanced productivity, less waste, and better \n",
      "product quality. The system can also be customized to meet specific \n",
      "manufacturing n eeds, which can lead to even greater efficiency and cost savings. \n",
      "Overall, the Tile Open Gap Identification and Filter System is a ground -breaking \n",
      "innovation that has the potential to revolutionize the tile manufacturing industry.  \n",
      "  Page | 3  \n",
      "Dept. of CSE, ASE, Bangalore  PROBLEM STATEMENT  \n",
      "The tile open gap identification and filler system project tries to show us the most \n",
      "common  issue of gaps or spaces that appear between tiles in flooring, walls, or any other \n",
      "applications. The creation of a system that recognizes  gaps and automa tically fills them with \n",
      "appropriate content is one suggested approach to solving this issue. In order to utilise the \n",
      "proper filler depending on the gap measurements and tile type, the system must reliably \n",
      "identify gaps of various sizes and shapes.  Addition ally, the system should be quick and \n",
      "inexpensive to run, reducing the time and labor  needed for upkeep and repairs. The \n",
      "recommended remedy should also put safety first, making sure that using the system won't \n",
      "endanger the user or the environment.  \n",
      " \n",
      "BACKGROU ND \n",
      "For flooring and wall coverings in residential and commercial structures, tiles are \n",
      "frequently employed. However, wear and tear and other causes over time may cause gaps \n",
      "to develop between the tiles. These spaces can be ugly and dangerous for tripping. These \n",
      "spaces have often been filled with tile fillers. These fillers might not be effective in moist or \n",
      "extremely small gaps, though. Additionally, manually filling in gaps can be labor -intensive  \n",
      "and time -consuming. Therefore, a system that can locate open  gaps and fill them effectively, \n",
      "regardless of their size or location, is required. The overall look and safety of tiled surfaces \n",
      "might be enhanced while saving time and effort.  \n",
      " \n"
     ]
    }
   ],
   "source": [
    "import os\n",
    "from PyPDF2 import PdfReader\n",
    "#from exceptions import PendingDeprecationWarning\n",
    "import docx\n",
    "\n",
    "\n",
    "def extract_text_from_pdf(filename):\n",
    "    with open(filename, 'rb') as file:\n",
    "        reader = PdfReader(filename)\n",
    "        text = ''\n",
    "        for page_num in range(len(reader.pages)):\n",
    "            page = reader.pages[page_num]\n",
    "            text += page.extract_text()\n",
    "        return text\n",
    "\n",
    "def extract_text_from_docx(filename):\n",
    "    doc = docx.Document(filename)\n",
    "    text = ''\n",
    "    for paragraph in doc.paragraphs:\n",
    "        text += paragraph.text + '\\n'\n",
    "    return text\n",
    "\n",
    "def extract_text_from_file(filename):\n",
    "    file_ext = os.path.splitext(filename)[1]\n",
    "    if file_ext.lower() == '.pdf':\n",
    "        return extract_text_from_pdf(filename)\n",
    "    elif file_ext.lower() == '.docx':\n",
    "        return extract_text_from_docx(filename)\n",
    "    else:\n",
    "        raise ValueError(\"Unsupported file format.\")\n",
    "\n",
    "# Usage\n",
    "filename = 'C:\\\\Users\\\\nikit\\\\Downloads\\\\DLSIP\\\\TestDocuments\\\\document_1.pdf'  # Replace with your file path\n",
    "try:\n",
    "    extracted_text = extract_text_from_file(filename)\n",
    "    print(extracted_text)\n",
    "except ValueError as e:\n",
    "    print(e)\n"
   ]
  },
  {
   "cell_type": "code",
   "execution_count": 16,
   "id": "87c340c9",
   "metadata": {},
   "outputs": [
    {
     "name": "stdout",
     "output_type": "stream",
     "text": [
      "Note: you may need to restart the kernel to use updated packages.\n"
     ]
    },
    {
     "name": "stderr",
     "output_type": "stream",
     "text": [
      "WARNING: Ignoring invalid distribution -illow (n:\\anaconda3\\lib\\site-packages)\n",
      "WARNING: Ignoring invalid distribution -illow (n:\\anaconda3\\lib\\site-packages)\n",
      "ERROR: Could not find a version that satisfies the requirement pdf_reader (from versions: none)\n",
      "ERROR: No matching distribution found for pdf_reader\n",
      "WARNING: Ignoring invalid distribution -illow (n:\\anaconda3\\lib\\site-packages)\n",
      "WARNING: Ignoring invalid distribution -illow (n:\\anaconda3\\lib\\site-packages)\n",
      "WARNING: Ignoring invalid distribution -illow (n:\\anaconda3\\lib\\site-packages)\n"
     ]
    }
   ],
   "source": [
    "import os\n",
    "import PyPDF2\n",
    "import docx\n"
   ]
  },
  {
   "cell_type": "code",
   "execution_count": 2,
   "id": "47864bf6",
   "metadata": {},
   "outputs": [
    {
     "name": "stdout",
     "output_type": "stream",
     "text": [
      "Note: you may need to restart the kernel to use updated packages.\n"
     ]
    },
    {
     "name": "stderr",
     "output_type": "stream",
     "text": [
      "WARNING: Ignoring invalid distribution -illow (n:\\anaconda3\\lib\\site-packages)\n",
      "WARNING: Ignoring invalid distribution -illow (n:\\anaconda3\\lib\\site-packages)\n",
      "ERROR: Could not find a version that satisfies the requirement exceptions (from versions: none)\n",
      "ERROR: No matching distribution found for exceptions\n",
      "WARNING: Ignoring invalid distribution -illow (n:\\anaconda3\\lib\\site-packages)\n",
      "WARNING: Ignoring invalid distribution -illow (n:\\anaconda3\\lib\\site-packages)\n",
      "WARNING: Ignoring invalid distribution -illow (n:\\anaconda3\\lib\\site-packages)\n"
     ]
    }
   ],
   "source": [
    "pip install exceptions"
   ]
  },
  {
   "cell_type": "code",
   "execution_count": 11,
   "id": "3818a13c",
   "metadata": {},
   "outputs": [
    {
     "name": "stdout",
     "output_type": "stream",
     "text": [
      "4\n"
     ]
    }
   ],
   "source": [
    "# importing required modules\n",
    "from PyPDF2 import PdfReader\n",
    "  \n",
    "# creating a pdf reader object\n",
    "reader = PdfReader('C:\\\\Users\\\\nikit\\\\Downloads\\\\DLSIP\\\\TestDocuments\\\\document_1.pdf')\n",
    "  \n",
    "# printing number of pages in pdf file\n",
    "print(len(reader.pages))\n",
    "  \n",
    "# # getting a specific page from the pdf file\n",
    "# page = reader.pages[0]\n",
    "  \n",
    "# # extracting text from page\n",
    "# text = page.extract_text()\n",
    "# print(text)"
   ]
  },
  {
   "cell_type": "code",
   "execution_count": 13,
   "id": "ee0d816d",
   "metadata": {},
   "outputs": [
    {
     "data": {
      "text/plain": [
       "<PyPDF2._page._VirtualList at 0x26712c2ab20>"
      ]
     },
     "execution_count": 13,
     "metadata": {},
     "output_type": "execute_result"
    }
   ],
   "source": [
    "reader.pages"
   ]
  },
  {
   "cell_type": "code",
   "execution_count": null,
   "id": "697b8634",
   "metadata": {},
   "outputs": [],
   "source": []
  }
 ],
 "metadata": {
  "kernelspec": {
   "display_name": "Python 3 (ipykernel)",
   "language": "python",
   "name": "python3"
  },
  "language_info": {
   "codemirror_mode": {
    "name": "ipython",
    "version": 3
   },
   "file_extension": ".py",
   "mimetype": "text/x-python",
   "name": "python",
   "nbconvert_exporter": "python",
   "pygments_lexer": "ipython3",
   "version": "3.9.7"
  }
 },
 "nbformat": 4,
 "nbformat_minor": 5
}
