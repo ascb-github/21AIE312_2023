{
 "cells": [
  {
   "cell_type": "code",
   "execution_count": 29,
   "id": "f519aa66",
   "metadata": {},
   "outputs": [
    {
     "name": "stdout",
     "output_type": "stream",
     "text": [
      "The Tile Open Gap Identification and Filter System is an innovative system that uses advanced algorithms for image processing to identify and filter out tiles with open gaps in real-time during the manufacturing process. This system is crucial in the construction industry, as open gaps between tiles can lead to significant problems such as water seepage, durability issues, and safety risks. The system's advantages include enhanced productivity, less waste, and better product quality. The system can also be customized to meet specific manufacturing needs, which can lead to even greater efficiency and cost savings. Overall, the Tile Open Gap Identification and Filter System is a ground-breaking innovation that has the potential to revolutionize the tile manufacturing industry.\n",
      "The tile open gap identification and filler system project tries to show us the most common  issue of gaps or spaces that appear between tiles in flooring, walls, or any other applications. The creation of a system that recognizes gaps and automatically fills them with appropriate content is one suggested approach to solving this issue. In order to utilise the proper filler depending on the gap measurements and tile type, the system must reliably identify gaps of various sizes and shapes. Additionally, the system should be quick and inexpensive to run, reducing the time and labor needed for upkeep and repairs. The recommended remedy should also put safety first, making sure that using the system won't endanger the user or the environment.\n",
      "For flooring and wall coverings in residential and commercial structures, tiles are frequently employed. However, wear and tear and other causes over time may cause gaps to develop between the tiles. These spaces can be ugly and dangerous for tripping. These spaces have often been filled with tile fillers. These fillers might not be effective in moist or extremely small gaps, though. Additionally, manually filling in gaps can be labor-intensive and time-consuming. Therefore, a system that can locate open gaps and fill them effectively, regardless of their size or location, is required. The overall look and safety of tiled surfaces might be enhanced while saving time and effort.\n"
     ]
    }
   ],
   "source": [
    "import os\n",
    "from PyPDF2 import PdfReader\n",
    "#from exceptions import PendingDeprecationWarning\n",
    "import docx\n",
    "\n",
    "\n",
    "def extract_paragraphs_from_pdf(filename):\n",
    "    with open(filename, 'rb') as file:\n",
    "        reader = PdfReader(filename)\n",
    "        paragraphs = []\n",
    "        for page_num in range(len(reader.pages)):\n",
    "            page = reader.pages[page_num]\n",
    "            text = page.extract_text()\n",
    "            paragraphs.extend(text.split('\\n\\n'))\n",
    "        return paragraphs\n",
    "\n",
    "def extract_paragraphs_from_docx(filename):\n",
    "    doc = docx.Document(filename)\n",
    "    paragraphs = []\n",
    "    for paragraph in doc.paragraphs:\n",
    "        paragraphs.append(paragraph.text)\n",
    "    return paragraphs\n",
    "\n",
    "def extract_paragraphs_from_file(filename):\n",
    "    file_ext = os.path.splitext(filename)[1]\n",
    "    if file_ext.lower() == '.pdf':\n",
    "        return extract_paragraphs_from_pdf(filename)\n",
    "    elif file_ext.lower() == '.docx':\n",
    "        return extract_paragraphs_from_docx(filename)\n",
    "    else:\n",
    "        raise ValueError(\"Unsupported file format.\")\n",
    "\n",
    "# Usage\n",
    "filename = 'C:\\\\Users\\\\nikit\\\\Downloads\\\\DLSIP\\\\TestDocuments\\\\document_1.docx'  # Replace with your file path\n",
    "try:\n",
    "    extracted_paragraphs = extract_paragraphs_from_file(filename)\n",
    "    for paragraph in extracted_paragraphs:\n",
    "        print(paragraph)\n",
    "except ValueError as e:\n",
    "    print(e)\n"
   ]
  },
  {
   "cell_type": "code",
   "execution_count": 32,
   "id": "87c340c9",
   "metadata": {},
   "outputs": [
    {
     "data": {
      "text/plain": [
       "3"
      ]
     },
     "execution_count": 32,
     "metadata": {},
     "output_type": "execute_result"
    }
   ],
   "source": [
    "len(extracted_paragraphs)"
   ]
  },
  {
   "cell_type": "code",
   "execution_count": 33,
   "id": "47864bf6",
   "metadata": {},
   "outputs": [],
   "source": [
    "from nltk.tokenize import sent_tokenize"
   ]
  },
  {
   "cell_type": "code",
   "execution_count": 40,
   "id": "be4a6cbd",
   "metadata": {},
   "outputs": [],
   "source": [
    "sentences = []\n",
    "for i in range(len(extracted_paragraphs)):\n",
    "    sentences.append(sent_tokenize(extracted_paragraphs[i]))\n"
   ]
  },
  {
   "cell_type": "code",
   "execution_count": 36,
   "id": "3818a13c",
   "metadata": {},
   "outputs": [],
   "source": [
    "# sentences.append(sent_tokenize(extracted_paragraphs[0]))"
   ]
  },
  {
   "cell_type": "code",
   "execution_count": 41,
   "id": "ee0d816d",
   "metadata": {},
   "outputs": [
    {
     "data": {
      "text/plain": [
       "[['The Tile Open Gap Identification and Filter System is an innovative system that uses advanced algorithms for image processing to identify and filter out tiles with open gaps in real-time during the manufacturing process.',\n",
       "  'This system is crucial in the construction industry, as open gaps between tiles can lead to significant problems such as water seepage, durability issues, and safety risks.',\n",
       "  \"The system's advantages include enhanced productivity, less waste, and better product quality.\",\n",
       "  'The system can also be customized to meet specific manufacturing needs, which can lead to even greater efficiency and cost savings.',\n",
       "  'Overall, the Tile Open Gap Identification and Filter System is a ground-breaking innovation that has the potential to revolutionize the tile manufacturing industry.'],\n",
       " ['The tile open gap identification and filler system project tries to show us the most common  issue of gaps or spaces that appear between tiles in flooring, walls, or any other applications.',\n",
       "  'The creation of a system that recognizes gaps and automatically fills them with appropriate content is one suggested approach to solving this issue.',\n",
       "  'In order to utilise the proper filler depending on the gap measurements and tile type, the system must reliably identify gaps of various sizes and shapes.',\n",
       "  'Additionally, the system should be quick and inexpensive to run, reducing the time and labor needed for upkeep and repairs.',\n",
       "  \"The recommended remedy should also put safety first, making sure that using the system won't endanger the user or the environment.\"],\n",
       " ['For flooring and wall coverings in residential and commercial structures, tiles are frequently employed.',\n",
       "  'However, wear and tear and other causes over time may cause gaps to develop between the tiles.',\n",
       "  'These spaces can be ugly and dangerous for tripping.',\n",
       "  'These spaces have often been filled with tile fillers.',\n",
       "  'These fillers might not be effective in moist or extremely small gaps, though.',\n",
       "  'Additionally, manually filling in gaps can be labor-intensive and time-consuming.',\n",
       "  'Therefore, a system that can locate open gaps and fill them effectively, regardless of their size or location, is required.',\n",
       "  'The overall look and safety of tiled surfaces might be enhanced while saving time and effort.']]"
      ]
     },
     "execution_count": 41,
     "metadata": {},
     "output_type": "execute_result"
    }
   ],
   "source": [
    "sentences"
   ]
  },
  {
   "cell_type": "code",
   "execution_count": null,
   "id": "697b8634",
   "metadata": {},
   "outputs": [],
   "source": []
  }
 ],
 "metadata": {
  "kernelspec": {
   "display_name": "Python 3 (ipykernel)",
   "language": "python",
   "name": "python3"
  },
  "language_info": {
   "codemirror_mode": {
    "name": "ipython",
    "version": 3
   },
   "file_extension": ".py",
   "mimetype": "text/x-python",
   "name": "python",
   "nbconvert_exporter": "python",
   "pygments_lexer": "ipython3",
   "version": "3.9.7"
  }
 },
 "nbformat": 4,
 "nbformat_minor": 5
}
