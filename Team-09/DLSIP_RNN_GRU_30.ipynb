{
 "cells": [
  {
   "cell_type": "code",
   "execution_count": 1,
   "metadata": {
    "id": "yIr2sgojkYPx"
   },
   "outputs": [],
   "source": [
    "from keras.layers import Dense, Dropout, Conv1D, MaxPooling1D, Flatten, Embedding, SimpleRNN, GlobalMaxPooling1D, GRU, Bidirectional, Layer, ActivityRegularization\n",
    "import warnings\n",
    "warnings.filterwarnings('ignore')\n",
    "from tensorflow.keras.callbacks import EarlyStopping\n",
    "\n",
    "import pandas as pd\n",
    "import numpy as np\n",
    "from keras.preprocessing.text import Tokenizer\n",
    "from tensorflow.keras.preprocessing.sequence import pad_sequences\n",
    "from imblearn.over_sampling import SMOTE\n",
    "from sklearn.model_selection import train_test_split\n",
    "from keras.models import Sequential\n",
    "import tensorflow as tf\n",
    "\n",
    "import tensorflow.keras.backend as K\n",
    "from tensorflow.keras import regularizers"
   ]
  },
  {
   "cell_type": "code",
   "execution_count": 2,
   "metadata": {
    "id": "bZOjeylWzJfT"
   },
   "outputs": [],
   "source": [
    "char_set = list(\n",
    "    \" abcdefghijklmnopqrstuvwxyzABCDEFGHIJKLMNOPQRSTUVWXYZ0123456789-'\\\"/+*.,!?;:()[]{}><@#$%^&=~`_|\\\\\")\n",
    "char_set = [''] + char_set\n",
    "\n",
    "char2int = {char_set[x]: x for x in range(len(char_set))}\n",
    "int2char = {x: char_set[x] for x in range(len(char_set))}\n",
    "\n",
    "# char2int\n",
    "\n",
    "# Character Encoding"
   ]
  },
  {
   "cell_type": "code",
   "execution_count": 3,
   "metadata": {
    "colab": {
     "base_uri": "https://localhost:8080/"
    },
    "id": "DiMq2IcrkjtO",
    "outputId": "85380af8-b633-4bb7-c536-f315bc05e5dc"
   },
   "outputs": [
    {
     "name": "stdout",
     "output_type": "stream",
     "text": [
      "686\n"
     ]
    }
   ],
   "source": [
    "\n",
    "dataset = pd.read_csv(\n",
    "    'sheet1.csv', usecols=[\"target_new\", \"INPUT\", \"Input_error\"])\n",
    "\n",
    "\n",
    "dataset[\"Y\"] = dataset[\"Input_error\"].map({\"Cat A\": 0, \"Cat B\": 1, \"Cat C\": 2, \"Cat D\": 3})\n",
    "dataset[\"X\"] = dataset[\"target_new\"] + \"\" + dataset[\"INPUT\"]\n",
    "dataset = dataset.drop([\"target_new\",\"INPUT\",\"Input_error\"], axis=1)\n",
    "# print(dataset[\"X\"].head())\n",
    "# tokenizer = Tokenizer(num_words=1000)\n",
    "# tokenizer.fit_on_texts(dataset[\"X\"].astype(str))\n",
    "# dataset[\"X\"] = tokenizer.texts_to_sequences(dataset[\"X\"].astype(str))\n",
    "\n",
    "dataset[\"X\"] = dataset[\"X\"].apply(lambda x: [char2int[i] for i in str(x)])\n",
    "\n",
    "dataset[\"X\"] = dataset[\"X\"].apply(lambda x: np.array(x))\n",
    "dataset[\"Y\"] = dataset[\"Y\"].apply(lambda x: np.array(x))\n",
    "\n",
    "# padding the data for equal length\n",
    "max_len = dataset[\"X\"].apply(lambda x: len(x)).max()\n",
    "dataset[\"X\"] = dataset[\"X\"].apply(lambda x: pad_sequences([x], maxlen=max_len,padding=\"post\",truncating=\"post\")[0])\n",
    "dataset[\"X\"] = dataset[\"X\"].apply(lambda x: np.array(x))\n",
    "dataset.dropna(inplace=True)\n",
    "print(max_len)"
   ]
  },
  {
   "cell_type": "code",
   "execution_count": 4,
   "metadata": {
    "id": "sJTNG7nglHcU"
   },
   "outputs": [],
   "source": [
    "x_train, x_test, y_train, y_test = train_test_split(dataset[\"X\"], dataset[\"Y\"], test_size=0.2, random_state=42)\n",
    "sm = SMOTE(random_state=25)\n",
    "\n",
    "x_train, y_train = sm.fit_resample(np.array(x_train.tolist()), np.array(y_train.tolist()))\n",
    "\n",
    "x_train, x_val, y_train, y_val = train_test_split(x_train, y_train, test_size=0.2, random_state=42)\n"
   ]
  },
  {
   "cell_type": "code",
   "execution_count": 5,
   "metadata": {
    "colab": {
     "base_uri": "https://localhost:8080/"
    },
    "id": "R-k3NR3TWPe-",
    "outputId": "b2ccad8d-5359-48bd-dd51-d5c195e4a7c3"
   },
   "outputs": [
    {
     "data": {
      "text/plain": [
       "7993"
      ]
     },
     "execution_count": 5,
     "metadata": {},
     "output_type": "execute_result"
    }
   ],
   "source": [
    "len(x_val)"
   ]
  },
  {
   "cell_type": "code",
   "execution_count": 6,
   "metadata": {
    "colab": {
     "base_uri": "https://localhost:8080/"
    },
    "id": "Z9ExeQzAoV1h",
    "outputId": "d20f7b3b-94af-4174-968c-0e2a935a12c0"
   },
   "outputs": [
    {
     "name": "stdout",
     "output_type": "stream",
     "text": [
      "<class 'numpy.ndarray'> <class 'pandas.core.series.Series'>\n"
     ]
    }
   ],
   "source": [
    "print(type(x_train),type(x_test))\n",
    "early_stop = EarlyStopping(monitor='accuracy', patience=3, verbose=1)"
   ]
  },
  {
   "cell_type": "code",
   "execution_count": 7,
   "metadata": {
    "colab": {
     "base_uri": "https://localhost:8080/"
    },
    "id": "Ib0jKKdzlLdG",
    "outputId": "74888c35-a762-4805-b58d-41f2c9caf36c"
   },
   "outputs": [
    {
     "name": "stdout",
     "output_type": "stream",
     "text": [
      "Model: \"sequential\"\n",
      "_________________________________________________________________\n",
      " Layer (type)                Output Shape              Param #   \n",
      "=================================================================\n",
      " embedding (Embedding)       (None, 686, 32)           32000     \n",
      "                                                                 \n",
      " bidirectional (Bidirectiona  (None, 686, 64)          12672     \n",
      " l)                                                              \n",
      "                                                                 \n",
      " bidirectional_1 (Bidirectio  (None, 32)               7872      \n",
      " nal)                                                            \n",
      "                                                                 \n",
      " dense (Dense)               (None, 64)                2112      \n",
      "                                                                 \n",
      " dense_1 (Dense)             (None, 4)                 260       \n",
      "                                                                 \n",
      "=================================================================\n",
      "Total params: 54,916\n",
      "Trainable params: 54,916\n",
      "Non-trainable params: 0\n",
      "_________________________________________________________________\n"
     ]
    }
   ],
   "source": [
    "# RNN with GRU\n",
    "model = Sequential()\n",
    "model.add(Embedding(input_dim=1000, output_dim=32, input_length=max_len))\n",
    "model.add(Bidirectional(GRU(32, activation='relu', return_sequences=True)))\n",
    "model.add(Bidirectional(GRU(16, activation='relu')))\n",
    "model.add(Dense(64, activation='relu'))\n",
    "model.add(Dense(4, activation='softmax'))\n",
    "\n",
    "model.compile(loss='sparse_categorical_crossentropy', optimizer='adam', metrics=['accuracy'])\n",
    "model.summary()"
   ]
  },
  {
   "cell_type": "code",
   "execution_count": 8,
   "metadata": {
    "colab": {
     "base_uri": "https://localhost:8080/",
     "height": 363
    },
    "id": "3AuolS4klN9F",
    "outputId": "c7adfba7-18d6-4079-bb8c-20a57ada5d69"
   },
   "outputs": [
    {
     "name": "stdout",
     "output_type": "stream",
     "text": [
      "Epoch 1/30\n",
      "500/500 [==============================] - 228s 448ms/step - loss: 0.9679 - accuracy: 0.5280 - val_loss: 0.8608 - val_accuracy: 0.6198\n",
      "Epoch 2/30\n",
      "500/500 [==============================] - 247s 494ms/step - loss: 0.8587 - accuracy: 0.6071 - val_loss: 0.8628 - val_accuracy: 0.6072\n",
      "Epoch 3/30\n",
      "500/500 [==============================] - 240s 479ms/step - loss: 0.8499 - accuracy: 0.6111 - val_loss: 0.8411 - val_accuracy: 0.6250\n",
      "Epoch 4/30\n",
      "500/500 [==============================] - 240s 481ms/step - loss: 0.8421 - accuracy: 0.6178 - val_loss: 0.8457 - val_accuracy: 0.6135\n",
      "Epoch 5/30\n",
      "500/500 [==============================] - 232s 464ms/step - loss: 0.8376 - accuracy: 0.6223 - val_loss: 0.8358 - val_accuracy: 0.6239\n",
      "Epoch 6/30\n",
      "500/500 [==============================] - 221s 442ms/step - loss: 0.8312 - accuracy: 0.6248 - val_loss: 0.8313 - val_accuracy: 0.6309\n",
      "Epoch 7/30\n",
      "500/500 [==============================] - 219s 438ms/step - loss: 0.8279 - accuracy: 0.6262 - val_loss: 0.8247 - val_accuracy: 0.6351\n",
      "Epoch 8/30\n",
      "500/500 [==============================] - 217s 434ms/step - loss: 0.8220 - accuracy: 0.6290 - val_loss: 0.8240 - val_accuracy: 0.6378\n",
      "Epoch 9/30\n",
      "500/500 [==============================] - 232s 464ms/step - loss: 0.8161 - accuracy: 0.6300 - val_loss: 0.8170 - val_accuracy: 0.6416\n",
      "Epoch 10/30\n",
      "500/500 [==============================] - 229s 458ms/step - loss: 0.8090 - accuracy: 0.6354 - val_loss: 0.8166 - val_accuracy: 0.6378\n",
      "Epoch 11/30\n",
      "500/500 [==============================] - 231s 462ms/step - loss: 0.8016 - accuracy: 0.6348 - val_loss: 0.8070 - val_accuracy: 0.6383\n",
      "Epoch 12/30\n",
      "500/500 [==============================] - 220s 440ms/step - loss: 0.7911 - accuracy: 0.6388 - val_loss: 0.7987 - val_accuracy: 0.6414\n",
      "Epoch 13/30\n",
      "500/500 [==============================] - 224s 447ms/step - loss: 0.7829 - accuracy: 0.6406 - val_loss: 0.7835 - val_accuracy: 0.6418\n",
      "Epoch 14/30\n",
      "500/500 [==============================] - 220s 441ms/step - loss: 0.7750 - accuracy: 0.6444 - val_loss: 0.7787 - val_accuracy: 0.6441\n",
      "Epoch 15/30\n",
      "500/500 [==============================] - 230s 460ms/step - loss: 0.7692 - accuracy: 0.6459 - val_loss: 0.7705 - val_accuracy: 0.6494\n",
      "Epoch 16/30\n",
      "500/500 [==============================] - 236s 471ms/step - loss: 0.7641 - accuracy: 0.6465 - val_loss: 0.7801 - val_accuracy: 0.6493\n",
      "Epoch 17/30\n",
      "500/500 [==============================] - 258s 517ms/step - loss: 0.7574 - accuracy: 0.6528 - val_loss: 0.7654 - val_accuracy: 0.6528\n",
      "Epoch 18/30\n",
      "500/500 [==============================] - 354s 709ms/step - loss: 0.7522 - accuracy: 0.6553 - val_loss: 0.7848 - val_accuracy: 0.6327\n",
      "Epoch 19/30\n",
      "500/500 [==============================] - 348s 696ms/step - loss: 0.7472 - accuracy: 0.6598 - val_loss: 0.7589 - val_accuracy: 0.6557\n",
      "Epoch 20/30\n",
      "500/500 [==============================] - 368s 737ms/step - loss: 0.7415 - accuracy: 0.6625 - val_loss: 0.7621 - val_accuracy: 0.6523\n",
      "Epoch 21/30\n",
      "500/500 [==============================] - 387s 775ms/step - loss: 0.7379 - accuracy: 0.6648 - val_loss: 0.7562 - val_accuracy: 0.6603\n",
      "Epoch 22/30\n",
      "500/500 [==============================] - 394s 787ms/step - loss: 0.7305 - accuracy: 0.6707 - val_loss: 0.7587 - val_accuracy: 0.6606\n",
      "Epoch 23/30\n",
      "500/500 [==============================] - 393s 785ms/step - loss: 0.7268 - accuracy: 0.6739 - val_loss: 0.7635 - val_accuracy: 0.6587\n",
      "Epoch 24/30\n",
      "500/500 [==============================] - 384s 769ms/step - loss: 0.7189 - accuracy: 0.6786 - val_loss: 0.7587 - val_accuracy: 0.6611\n",
      "Epoch 25/30\n",
      "500/500 [==============================] - 395s 789ms/step - loss: 0.7118 - accuracy: 0.6822 - val_loss: 0.7406 - val_accuracy: 0.6691\n",
      "Epoch 26/30\n",
      "500/500 [==============================] - 298s 597ms/step - loss: 0.7083 - accuracy: 0.6844 - val_loss: 0.7379 - val_accuracy: 0.6766\n",
      "Epoch 27/30\n",
      "500/500 [==============================] - 272s 544ms/step - loss: 0.7019 - accuracy: 0.6886 - val_loss: 0.7342 - val_accuracy: 0.6807\n",
      "Epoch 28/30\n",
      "500/500 [==============================] - 274s 549ms/step - loss: 0.6929 - accuracy: 0.6937 - val_loss: 0.7429 - val_accuracy: 0.6736\n",
      "Epoch 29/30\n",
      "500/500 [==============================] - 272s 543ms/step - loss: 0.6858 - accuracy: 0.6993 - val_loss: 0.7331 - val_accuracy: 0.6766\n",
      "Epoch 30/30\n",
      "500/500 [==============================] - 268s 536ms/step - loss: 0.6814 - accuracy: 0.7045 - val_loss: 0.7280 - val_accuracy: 0.6817\n"
     ]
    }
   ],
   "source": [
    "with tf.device(tf.test.gpu_device_name()):\n",
    "    history = model.fit(x_train, y_train, epochs=30, batch_size=64, validation_data=(x_val, y_val))"
   ]
  },
  {
   "cell_type": "code",
   "execution_count": 9,
   "metadata": {
    "colab": {
     "base_uri": "https://localhost:8080/"
    },
    "id": "KQ8nlV5Sn2mm",
    "outputId": "40f8e7d3-ccd3-4b7b-d697-c8fc43689cdb"
   },
   "outputs": [
    {
     "name": "stdout",
     "output_type": "stream",
     "text": [
      "161/161 [==============================] - 14s 86ms/step - loss: 0.7977 - accuracy: 0.6715\n",
      "test loss, test acc: [0.7976737022399902, 0.6715229153633118]\n"
     ]
    }
   ],
   "source": [
    "results = model.evaluate(np.array(x_test.tolist()), np.array(y_test.tolist()))\n",
    "print(\"test loss, test acc:\", results)"
   ]
  },
  {
   "cell_type": "code",
   "execution_count": 10,
   "metadata": {
    "id": "jnUm6zoU0RdM"
   },
   "outputs": [],
   "source": [
    "model.save('model_final.h5')"
   ]
  },
  {
   "cell_type": "markdown",
   "metadata": {
    "id": "LVgA5m9NP9FZ"
   },
   "source": [
    "# Testing using Saved Model"
   ]
  },
  {
   "cell_type": "code",
   "execution_count": 12,
   "metadata": {
    "colab": {
     "base_uri": "https://localhost:8080/"
    },
    "id": "X0aPFX-wP2eZ",
    "outputId": "1c9ddd0c-7a69-45d4-cdb1-453f6d13a754"
   },
   "outputs": [],
   "source": [
    "import tensorflow as tf\n",
    "\n",
    "# Load the pre-trained model\n",
    "model = tf.keras.models.load_model('model_final.h5')  # Replace with your actual file path\n"
   ]
  },
  {
   "cell_type": "code",
   "execution_count": 13,
   "metadata": {
    "colab": {
     "base_uri": "https://localhost:8080/"
    },
    "id": "gDtK7knWQLU6",
    "outputId": "4e4c2c07-0fa6-4142-b4f7-ea8e8fd2df77"
   },
   "outputs": [
    {
     "name": "stdout",
     "output_type": "stream",
     "text": [
      "250/250 [==============================] - 21s 80ms/step\n",
      "test loss, test acc: [[1.0981511e-03 3.5823533e-09 5.6095619e-02 9.4280624e-01]\n",
      " [6.9362867e-01 2.6073191e-01 2.5093615e-02 2.0545777e-02]\n",
      " [6.2338096e-01 3.2352427e-01 2.5297740e-02 2.7797058e-02]\n",
      " ...\n",
      " [5.6030381e-01 5.0989292e-03 3.6818635e-01 6.6410929e-02]\n",
      " [4.7848114e-01 4.7506490e-01 1.0722463e-02 3.5731506e-02]\n",
      " [7.3514923e-02 1.6248001e-05 6.2099499e-01 3.0547377e-01]]\n",
      "<class 'numpy.ndarray'>\n"
     ]
    }
   ],
   "source": [
    "predict = model.predict(x_val)\n",
    "\n",
    "print(\"test loss, test acc:\", predict)\n",
    "print(type(predict))"
   ]
  },
  {
   "cell_type": "code",
   "execution_count": 14,
   "metadata": {
    "id": "vanPDY1UWYfo"
   },
   "outputs": [],
   "source": [
    "y_pred = np.argmax(predict,axis = 1)\n"
   ]
  },
  {
   "cell_type": "markdown",
   "metadata": {
    "id": "froxVENIXFou"
   },
   "source": [
    "# Confusion Matrix"
   ]
  },
  {
   "cell_type": "code",
   "execution_count": 15,
   "metadata": {
    "colab": {
     "base_uri": "https://localhost:8080/",
     "height": 559
    },
    "id": "XA6fh0TKW3MR",
    "outputId": "01d5aacc-a9f5-4b62-e21b-ce75a0980234"
   },
   "outputs": [
    {
     "name": "stdout",
     "output_type": "stream",
     "text": [
      "Confusion Matrix:\n",
      "[[1229  607  131   33]\n",
      " [ 358 1632    0    2]\n",
      " [  86   57 1212  671]\n",
      " [  44  267  288 1376]]\n"
     ]
    },
    {
     "data": {
      "image/png": "[encoded data removed]",
      "text/plain": [
       "<Figure size 432x288 with 2 Axes>"
      ]
     },
     "metadata": {
      "needs_background": "light"
     },
     "output_type": "display_data"
    }
   ],
   "source": [
    "import numpy as np\n",
    "import matplotlib.pyplot as plt\n",
    "from sklearn.metrics import confusion_matrix\n",
    "\n",
    "# # True labels\n",
    "# true_labels = [0, 1, 2, 1, 0, 3, 2, 0, 1, 2, 3, 3]\n",
    "\n",
    "# # Predicted labels\n",
    "# predicted_labels = [0, 2, 1, 1, 0, 3, 2, 0, 2, 2, 3, 1]\n",
    "\n",
    "# Calculate confusion matrix\n",
    "cm = confusion_matrix(y_val, y_pred)\n",
    "\n",
    "# Print confusion matrix\n",
    "print(\"Confusion Matrix:\")\n",
    "print(cm)\n",
    "\n",
    "# Plot confusion matrix\n",
    "plt.imshow(cm, interpolation='nearest', cmap=plt.cm.Blues)\n",
    "plt.colorbar()\n",
    "tick_marks = np.arange(len(np.unique(y_val)))\n",
    "plt.xticks(tick_marks, np.unique(y_val))\n",
    "plt.yticks(tick_marks, np.unique(y_val))\n",
    "plt.xlabel('Predicted')\n",
    "plt.ylabel('True')\n",
    "plt.title('Confusion Matrix')\n",
    "plt.show()\n"
   ]
  },
  {
   "cell_type": "markdown",
   "metadata": {
    "id": "sw11_qaYdfkV"
   },
   "source": [
    "# Graphs"
   ]
  },
  {
   "cell_type": "code",
   "execution_count": 20,
   "metadata": {
    "id": "ObjDc0H4MiDG",
    "outputId": "ab0ced88-75b6-4599-ecee-445f7dbc5655"
   },
   "outputs": [
    {
     "data": {
      "image/png": "[encoded data removed]",
      "text/plain": [
       "<Figure size 432x288 with 1 Axes>"
      ]
     },
     "metadata": {
      "needs_background": "light"
     },
     "output_type": "display_data"
    }
   ],
   "source": [
    "plt.plot(history.history['accuracy'])\n",
    "plt.plot(history.history['val_accuracy'])\n",
    "plt.title('model accuracy')\n",
    "plt.ylabel('accuracy')\n",
    "plt.xlabel('epoch')\n",
    "plt.legend(['train_acc', 'val_acc'], loc='upper left')\n",
    "plt.show()"
   ]
  },
  {
   "cell_type": "code",
   "execution_count": 21,
   "metadata": {},
   "outputs": [
    {
     "data": {
      "image/png": "[encoded data removed]",
      "text/plain": [
       "<Figure size 432x288 with 1 Axes>"
      ]
     },
     "metadata": {
      "needs_background": "light"
     },
     "output_type": "display_data"
    }
   ],
   "source": [
    "plt.plot(history.history['loss'])\n",
    "plt.plot(history.history['val_loss'])\n",
    "plt.title('model loss')\n",
    "plt.ylabel('loss')\n",
    "plt.xlabel('epoch')\n",
    "plt.legend(['train_loss', 'val_loss'], loc='upper left')\n",
    "plt.show()"
   ]
  },
  {
   "cell_type": "code",
   "execution_count": 2,
   "metadata": {},
   "outputs": [
    {
     "ename": "NameError",
     "evalue": "name 'char2int' is not defined",
     "output_type": "error",
     "traceback": [
      "\u001b[1;31m---------------------------------------------------------------------------\u001b[0m",
      "\u001b[1;31mNameError\u001b[0m                                 Traceback (most recent call last)",
      "\u001b[1;32m~\\AppData\\Local\\Temp/ipykernel_13728/1879550901.py\u001b[0m in \u001b[0;36m<module>\u001b[1;34m\u001b[0m\n\u001b[0;32m     11\u001b[0m \u001b[0minput_new\u001b[0m \u001b[1;33m=\u001b[0m \u001b[1;34m\"I am eating bricks\"\u001b[0m\u001b[1;33m\u001b[0m\u001b[1;33m\u001b[0m\u001b[0m\n\u001b[0;32m     12\u001b[0m \u001b[1;33m\u001b[0m\u001b[0m\n\u001b[1;32m---> 13\u001b[1;33m \u001b[0mpridiction\u001b[0m \u001b[1;33m=\u001b[0m \u001b[0mpredict\u001b[0m\u001b[1;33m(\u001b[0m\u001b[0minput_new\u001b[0m\u001b[1;33m)\u001b[0m\u001b[1;33m\u001b[0m\u001b[1;33m\u001b[0m\u001b[0m\n\u001b[0m\u001b[0;32m     14\u001b[0m \u001b[0mprint\u001b[0m\u001b[1;33m(\u001b[0m\u001b[1;34m\"test loss, test acc:\"\u001b[0m\u001b[1;33m,\u001b[0m \u001b[0mpridiction\u001b[0m\u001b[1;33m)\u001b[0m\u001b[1;33m\u001b[0m\u001b[1;33m\u001b[0m\u001b[0m\n\u001b[0;32m     15\u001b[0m \u001b[0mprint\u001b[0m\u001b[1;33m(\u001b[0m\u001b[0mnp\u001b[0m\u001b[1;33m.\u001b[0m\u001b[0margmax\u001b[0m\u001b[1;33m(\u001b[0m\u001b[0mpridiction\u001b[0m\u001b[1;33m)\u001b[0m\u001b[1;33m)\u001b[0m\u001b[1;33m\u001b[0m\u001b[1;33m\u001b[0m\u001b[0m\n",
      "\u001b[1;32m~\\AppData\\Local\\Temp/ipykernel_13728/1879550901.py\u001b[0m in \u001b[0;36mpredict\u001b[1;34m(input_new)\u001b[0m\n\u001b[0;32m      1\u001b[0m \u001b[1;32mdef\u001b[0m \u001b[0mpredict\u001b[0m\u001b[1;33m(\u001b[0m\u001b[0minput_new\u001b[0m\u001b[1;33m)\u001b[0m\u001b[1;33m:\u001b[0m\u001b[1;33m\u001b[0m\u001b[1;33m\u001b[0m\u001b[0m\n\u001b[0;32m      2\u001b[0m   \u001b[0minput_new\u001b[0m \u001b[1;33m=\u001b[0m  \u001b[0minput_new\u001b[0m\u001b[1;33m\u001b[0m\u001b[1;33m\u001b[0m\u001b[0m\n\u001b[1;32m----> 3\u001b[1;33m   \u001b[0minput_new\u001b[0m \u001b[1;33m=\u001b[0m \u001b[1;33m[\u001b[0m\u001b[0mchar2int\u001b[0m\u001b[1;33m[\u001b[0m\u001b[0mi\u001b[0m\u001b[1;33m]\u001b[0m \u001b[1;32mfor\u001b[0m \u001b[0mi\u001b[0m \u001b[1;32min\u001b[0m \u001b[0mstr\u001b[0m\u001b[1;33m(\u001b[0m\u001b[0minput_new\u001b[0m\u001b[1;33m)\u001b[0m\u001b[1;33m]\u001b[0m\u001b[1;33m\u001b[0m\u001b[1;33m\u001b[0m\u001b[0m\n\u001b[0m\u001b[0;32m      4\u001b[0m   \u001b[0minput_new\u001b[0m \u001b[1;33m=\u001b[0m \u001b[0mpad_sequences\u001b[0m\u001b[1;33m(\u001b[0m\u001b[1;33m[\u001b[0m\u001b[0minput_new\u001b[0m\u001b[1;33m]\u001b[0m\u001b[1;33m,\u001b[0m \u001b[0mmaxlen\u001b[0m\u001b[1;33m=\u001b[0m\u001b[0mmax_len\u001b[0m\u001b[1;33m,\u001b[0m\u001b[0mpadding\u001b[0m\u001b[1;33m=\u001b[0m\u001b[1;34m\"post\"\u001b[0m\u001b[1;33m,\u001b[0m\u001b[0mtruncating\u001b[0m\u001b[1;33m=\u001b[0m\u001b[1;34m\"post\"\u001b[0m\u001b[1;33m)\u001b[0m\u001b[1;33m[\u001b[0m\u001b[1;36m0\u001b[0m\u001b[1;33m]\u001b[0m\u001b[1;33m\u001b[0m\u001b[1;33m\u001b[0m\u001b[0m\n\u001b[0;32m      5\u001b[0m   \u001b[0minput_new\u001b[0m \u001b[1;33m=\u001b[0m \u001b[0mnp\u001b[0m\u001b[1;33m.\u001b[0m\u001b[0marray\u001b[0m\u001b[1;33m(\u001b[0m\u001b[0minput_new\u001b[0m\u001b[1;33m)\u001b[0m\u001b[1;33m\u001b[0m\u001b[1;33m\u001b[0m\u001b[0m\n",
      "\u001b[1;32m~\\AppData\\Local\\Temp/ipykernel_13728/1879550901.py\u001b[0m in \u001b[0;36m<listcomp>\u001b[1;34m(.0)\u001b[0m\n\u001b[0;32m      1\u001b[0m \u001b[1;32mdef\u001b[0m \u001b[0mpredict\u001b[0m\u001b[1;33m(\u001b[0m\u001b[0minput_new\u001b[0m\u001b[1;33m)\u001b[0m\u001b[1;33m:\u001b[0m\u001b[1;33m\u001b[0m\u001b[1;33m\u001b[0m\u001b[0m\n\u001b[0;32m      2\u001b[0m   \u001b[0minput_new\u001b[0m \u001b[1;33m=\u001b[0m  \u001b[0minput_new\u001b[0m\u001b[1;33m\u001b[0m\u001b[1;33m\u001b[0m\u001b[0m\n\u001b[1;32m----> 3\u001b[1;33m   \u001b[0minput_new\u001b[0m \u001b[1;33m=\u001b[0m \u001b[1;33m[\u001b[0m\u001b[0mchar2int\u001b[0m\u001b[1;33m[\u001b[0m\u001b[0mi\u001b[0m\u001b[1;33m]\u001b[0m \u001b[1;32mfor\u001b[0m \u001b[0mi\u001b[0m \u001b[1;32min\u001b[0m \u001b[0mstr\u001b[0m\u001b[1;33m(\u001b[0m\u001b[0minput_new\u001b[0m\u001b[1;33m)\u001b[0m\u001b[1;33m]\u001b[0m\u001b[1;33m\u001b[0m\u001b[1;33m\u001b[0m\u001b[0m\n\u001b[0m\u001b[0;32m      4\u001b[0m   \u001b[0minput_new\u001b[0m \u001b[1;33m=\u001b[0m \u001b[0mpad_sequences\u001b[0m\u001b[1;33m(\u001b[0m\u001b[1;33m[\u001b[0m\u001b[0minput_new\u001b[0m\u001b[1;33m]\u001b[0m\u001b[1;33m,\u001b[0m \u001b[0mmaxlen\u001b[0m\u001b[1;33m=\u001b[0m\u001b[0mmax_len\u001b[0m\u001b[1;33m,\u001b[0m\u001b[0mpadding\u001b[0m\u001b[1;33m=\u001b[0m\u001b[1;34m\"post\"\u001b[0m\u001b[1;33m,\u001b[0m\u001b[0mtruncating\u001b[0m\u001b[1;33m=\u001b[0m\u001b[1;34m\"post\"\u001b[0m\u001b[1;33m)\u001b[0m\u001b[1;33m[\u001b[0m\u001b[1;36m0\u001b[0m\u001b[1;33m]\u001b[0m\u001b[1;33m\u001b[0m\u001b[1;33m\u001b[0m\u001b[0m\n\u001b[0;32m      5\u001b[0m   \u001b[0minput_new\u001b[0m \u001b[1;33m=\u001b[0m \u001b[0mnp\u001b[0m\u001b[1;33m.\u001b[0m\u001b[0marray\u001b[0m\u001b[1;33m(\u001b[0m\u001b[0minput_new\u001b[0m\u001b[1;33m)\u001b[0m\u001b[1;33m\u001b[0m\u001b[1;33m\u001b[0m\u001b[0m\n",
      "\u001b[1;31mNameError\u001b[0m: name 'char2int' is not defined"
     ]
    }
   ],
   "source": [
    "def predict(input_new):\n",
    "  input_new =  input_new\n",
    "  input_new = [char2int[i] for i in str(input_new)]\n",
    "  input_new = pad_sequences([input_new], maxlen=max_len,padding=\"post\",truncating=\"post\")[0]\n",
    "  input_new = np.array(input_new)\n",
    "  input_new = np.array([input_new])\n",
    "  print(input_new)\n",
    "  return model.predict(input_new)\n",
    "\n",
    "\n",
    "input_new = \"I am eating bricks\"\n",
    "\n",
    "pridiction = predict(input_new)\n",
    "print(\"test loss, test acc:\", pridiction)\n",
    "print(np.argmax(pridiction))\n",
    "\n"
   ]
  },
  {
   "cell_type": "code",
   "execution_count": null,
   "metadata": {},
   "outputs": [],
   "source": []
  },
  {
   "cell_type": "code",
   "execution_count": null,
   "metadata": {},
   "outputs": [],
   "source": []
  }
 ],
 "metadata": {
  "accelerator": "GPU",
  "colab": {
   "gpuType": "T4",
   "provenance": []
  },
  "kernelspec": {
   "display_name": "Python 3 (ipykernel)",
   "language": "python",
   "name": "python3"
  },
  "language_info": {
   "codemirror_mode": {
    "name": "ipython",
    "version": 3
   },
   "file_extension": ".py",
   "mimetype": "text/x-python",
   "name": "python",
   "nbconvert_exporter": "python",
   "pygments_lexer": "ipython3",
   "version": "3.9.7"
  }
 },
 "nbformat": 4,
 "nbformat_minor": 1
}
